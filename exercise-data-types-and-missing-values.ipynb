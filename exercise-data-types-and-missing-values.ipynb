{
 "cells": [
  {
   "cell_type": "markdown",
   "id": "05dc2146",
   "metadata": {
    "papermill": {
     "duration": 0.005629,
     "end_time": "2023-09-10T07:40:59.779814",
     "exception": false,
     "start_time": "2023-09-10T07:40:59.774185",
     "status": "completed"
    },
    "tags": []
   },
   "source": [
    "**This notebook is an exercise in the [Pandas](https://www.kaggle.com/learn/pandas) course.  You can reference the tutorial at [this link](https://www.kaggle.com/residentmario/data-types-and-missing-values).**\n",
    "\n",
    "---\n"
   ]
  },
  {
   "cell_type": "markdown",
   "id": "99245e26",
   "metadata": {
    "papermill": {
     "duration": 0.004534,
     "end_time": "2023-09-10T07:40:59.789188",
     "exception": false,
     "start_time": "2023-09-10T07:40:59.784654",
     "status": "completed"
    },
    "tags": []
   },
   "source": [
    "# Introduction\n",
    "\n",
    "Run the following cell to load your data and some utility functions."
   ]
  },
  {
   "cell_type": "code",
   "execution_count": 1,
   "id": "3e9f549c",
   "metadata": {
    "execution": {
     "iopub.execute_input": "2023-09-10T07:40:59.800139Z",
     "iopub.status.busy": "2023-09-10T07:40:59.799812Z",
     "iopub.status.idle": "2023-09-10T07:41:02.851825Z",
     "shell.execute_reply": "2023-09-10T07:41:02.850707Z"
    },
    "papermill": {
     "duration": 3.060426,
     "end_time": "2023-09-10T07:41:02.854235",
     "exception": false,
     "start_time": "2023-09-10T07:40:59.793809",
     "status": "completed"
    },
    "tags": []
   },
   "outputs": [
    {
     "name": "stdout",
     "output_type": "stream",
     "text": [
      "Setup complete.\n"
     ]
    }
   ],
   "source": [
    "import pandas as pd\n",
    "\n",
    "reviews = pd.read_csv(\"../input/wine-reviews/winemag-data-130k-v2.csv\", index_col=0)\n",
    "\n",
    "from learntools.core import binder; binder.bind(globals())\n",
    "from learntools.pandas.data_types_and_missing_data import *\n",
    "print(\"Setup complete.\")"
   ]
  },
  {
   "cell_type": "markdown",
   "id": "56e42071",
   "metadata": {
    "papermill": {
     "duration": 0.004695,
     "end_time": "2023-09-10T07:41:02.863991",
     "exception": false,
     "start_time": "2023-09-10T07:41:02.859296",
     "status": "completed"
    },
    "tags": []
   },
   "source": [
    "# Exercises"
   ]
  },
  {
   "cell_type": "markdown",
   "id": "6554a4ae",
   "metadata": {
    "papermill": {
     "duration": 0.004274,
     "end_time": "2023-09-10T07:41:02.872921",
     "exception": false,
     "start_time": "2023-09-10T07:41:02.868647",
     "status": "completed"
    },
    "tags": []
   },
   "source": [
    "## 1. \n",
    "What is the data type of the `points` column in the dataset?"
   ]
  },
  {
   "cell_type": "code",
   "execution_count": 2,
   "id": "b366e43b",
   "metadata": {
    "execution": {
     "iopub.execute_input": "2023-09-10T07:41:02.884729Z",
     "iopub.status.busy": "2023-09-10T07:41:02.883491Z",
     "iopub.status.idle": "2023-09-10T07:41:02.894853Z",
     "shell.execute_reply": "2023-09-10T07:41:02.893784Z"
    },
    "papermill": {
     "duration": 0.019913,
     "end_time": "2023-09-10T07:41:02.897293",
     "exception": false,
     "start_time": "2023-09-10T07:41:02.877380",
     "status": "completed"
    },
    "tags": []
   },
   "outputs": [
    {
     "data": {
      "application/javascript": [
       "parent.postMessage({\"jupyterEvent\": \"custom.exercise_interaction\", \"data\": {\"outcomeType\": 1, \"valueTowardsCompletion\": 0.25, \"interactionType\": 1, \"questionType\": 1, \"questionId\": \"1_PointsDtype\", \"learnToolsVersion\": \"0.3.4\", \"failureMessage\": \"\", \"exceptionClass\": \"\", \"trace\": \"\"}}, \"*\")"
      ],
      "text/plain": [
       "<IPython.core.display.Javascript object>"
      ]
     },
     "metadata": {},
     "output_type": "display_data"
    },
    {
     "data": {
      "text/markdown": [
       "<span style=\"color:#33cc33\">Correct</span>"
      ],
      "text/plain": [
       "Correct"
      ]
     },
     "metadata": {},
     "output_type": "display_data"
    }
   ],
   "source": [
    "# Your code here\n",
    "dtype = reviews.points.dtype\n",
    "\n",
    "# Check your answer\n",
    "q1.check()"
   ]
  },
  {
   "cell_type": "code",
   "execution_count": 3,
   "id": "76a73938",
   "metadata": {
    "execution": {
     "iopub.execute_input": "2023-09-10T07:41:02.908848Z",
     "iopub.status.busy": "2023-09-10T07:41:02.908495Z",
     "iopub.status.idle": "2023-09-10T07:41:02.912046Z",
     "shell.execute_reply": "2023-09-10T07:41:02.911280Z"
    },
    "papermill": {
     "duration": 0.01144,
     "end_time": "2023-09-10T07:41:02.913712",
     "exception": false,
     "start_time": "2023-09-10T07:41:02.902272",
     "status": "completed"
    },
    "tags": []
   },
   "outputs": [],
   "source": [
    "#q1.hint()\n",
    "#q1.solution()"
   ]
  },
  {
   "cell_type": "markdown",
   "id": "0d0f798b",
   "metadata": {
    "papermill": {
     "duration": 0.004635,
     "end_time": "2023-09-10T07:41:02.923337",
     "exception": false,
     "start_time": "2023-09-10T07:41:02.918702",
     "status": "completed"
    },
    "tags": []
   },
   "source": [
    "## 2. \n",
    "Create a Series from entries in the `points` column, but convert the entries to strings. Hint: strings are `str` in native Python."
   ]
  },
  {
   "cell_type": "code",
   "execution_count": 4,
   "id": "b64f5ea6",
   "metadata": {
    "execution": {
     "iopub.execute_input": "2023-09-10T07:41:02.934771Z",
     "iopub.status.busy": "2023-09-10T07:41:02.934226Z",
     "iopub.status.idle": "2023-09-10T07:41:02.978061Z",
     "shell.execute_reply": "2023-09-10T07:41:02.977081Z"
    },
    "papermill": {
     "duration": 0.051752,
     "end_time": "2023-09-10T07:41:02.979876",
     "exception": false,
     "start_time": "2023-09-10T07:41:02.928124",
     "status": "completed"
    },
    "tags": []
   },
   "outputs": [
    {
     "data": {
      "application/javascript": [
       "parent.postMessage({\"jupyterEvent\": \"custom.exercise_interaction\", \"data\": {\"outcomeType\": 1, \"valueTowardsCompletion\": 0.25, \"interactionType\": 1, \"questionType\": 1, \"questionId\": \"2_StrPoints\", \"learnToolsVersion\": \"0.3.4\", \"failureMessage\": \"\", \"exceptionClass\": \"\", \"trace\": \"\"}}, \"*\")"
      ],
      "text/plain": [
       "<IPython.core.display.Javascript object>"
      ]
     },
     "metadata": {},
     "output_type": "display_data"
    },
    {
     "data": {
      "text/markdown": [
       "<span style=\"color:#33cc33\">Correct</span>"
      ],
      "text/plain": [
       "Correct"
      ]
     },
     "metadata": {},
     "output_type": "display_data"
    }
   ],
   "source": [
    "point_strings = reviews.points.astype(str)\n",
    "\n",
    "# Check your answer\n",
    "q2.check()"
   ]
  },
  {
   "cell_type": "code",
   "execution_count": 5,
   "id": "141b2107",
   "metadata": {
    "execution": {
     "iopub.execute_input": "2023-09-10T07:41:02.992033Z",
     "iopub.status.busy": "2023-09-10T07:41:02.991695Z",
     "iopub.status.idle": "2023-09-10T07:41:02.995769Z",
     "shell.execute_reply": "2023-09-10T07:41:02.994656Z"
    },
    "papermill": {
     "duration": 0.012434,
     "end_time": "2023-09-10T07:41:02.997673",
     "exception": false,
     "start_time": "2023-09-10T07:41:02.985239",
     "status": "completed"
    },
    "tags": []
   },
   "outputs": [],
   "source": [
    "#q2.hint()\n",
    "#q2.solution()"
   ]
  },
  {
   "cell_type": "markdown",
   "id": "e94015bd",
   "metadata": {
    "papermill": {
     "duration": 0.004973,
     "end_time": "2023-09-10T07:41:03.008166",
     "exception": false,
     "start_time": "2023-09-10T07:41:03.003193",
     "status": "completed"
    },
    "tags": []
   },
   "source": [
    "## 3.\n",
    "Sometimes the price column is null. How many reviews in the dataset are missing a price?"
   ]
  },
  {
   "cell_type": "code",
   "execution_count": 6,
   "id": "6bfccc19",
   "metadata": {
    "execution": {
     "iopub.execute_input": "2023-09-10T07:41:03.021407Z",
     "iopub.status.busy": "2023-09-10T07:41:03.020212Z",
     "iopub.status.idle": "2023-09-10T07:41:03.029724Z",
     "shell.execute_reply": "2023-09-10T07:41:03.029038Z"
    },
    "papermill": {
     "duration": 0.017942,
     "end_time": "2023-09-10T07:41:03.031412",
     "exception": false,
     "start_time": "2023-09-10T07:41:03.013470",
     "status": "completed"
    },
    "tags": []
   },
   "outputs": [
    {
     "data": {
      "application/javascript": [
       "parent.postMessage({\"jupyterEvent\": \"custom.exercise_interaction\", \"data\": {\"outcomeType\": 1, \"valueTowardsCompletion\": 0.25, \"interactionType\": 1, \"questionType\": 1, \"questionId\": \"3_CountMissingPrices\", \"learnToolsVersion\": \"0.3.4\", \"failureMessage\": \"\", \"exceptionClass\": \"\", \"trace\": \"\"}}, \"*\")"
      ],
      "text/plain": [
       "<IPython.core.display.Javascript object>"
      ]
     },
     "metadata": {},
     "output_type": "display_data"
    },
    {
     "data": {
      "text/markdown": [
       "<span style=\"color:#33cc33\">Correct</span>"
      ],
      "text/plain": [
       "Correct"
      ]
     },
     "metadata": {},
     "output_type": "display_data"
    }
   ],
   "source": [
    "n_missing_prices = reviews.price.isnull().sum()\n",
    "\n",
    "# Check your answer\n",
    "q3.check()"
   ]
  },
  {
   "cell_type": "code",
   "execution_count": 7,
   "id": "e98d35c3",
   "metadata": {
    "execution": {
     "iopub.execute_input": "2023-09-10T07:41:03.061604Z",
     "iopub.status.busy": "2023-09-10T07:41:03.061236Z",
     "iopub.status.idle": "2023-09-10T07:41:03.065714Z",
     "shell.execute_reply": "2023-09-10T07:41:03.064689Z"
    },
    "papermill": {
     "duration": 0.02827,
     "end_time": "2023-09-10T07:41:03.067844",
     "exception": false,
     "start_time": "2023-09-10T07:41:03.039574",
     "status": "completed"
    },
    "tags": []
   },
   "outputs": [],
   "source": [
    "#q3.hint()\n",
    "#q3.solution()"
   ]
  },
  {
   "cell_type": "markdown",
   "id": "2bc7686b",
   "metadata": {
    "papermill": {
     "duration": 0.005441,
     "end_time": "2023-09-10T07:41:03.079254",
     "exception": false,
     "start_time": "2023-09-10T07:41:03.073813",
     "status": "completed"
    },
    "tags": []
   },
   "source": [
    "## 4.\n",
    "What are the most common wine-producing regions? Create a Series counting the number of times each value occurs in the `region_1` field. This field is often missing data, so replace missing values with `Unknown`. Sort in descending order.  Your output should look something like this:\n",
    "\n",
    "```\n",
    "Unknown                    21247\n",
    "Napa Valley                 4480\n",
    "                           ...  \n",
    "Bardolino Superiore            1\n",
    "Primitivo del Tarantino        1\n",
    "Name: region_1, Length: 1230, dtype: int64\n",
    "```"
   ]
  },
  {
   "cell_type": "code",
   "execution_count": 8,
   "id": "41e96cb6",
   "metadata": {
    "execution": {
     "iopub.execute_input": "2023-09-10T07:41:03.092918Z",
     "iopub.status.busy": "2023-09-10T07:41:03.092509Z",
     "iopub.status.idle": "2023-09-10T07:41:03.130676Z",
     "shell.execute_reply": "2023-09-10T07:41:03.129391Z"
    },
    "papermill": {
     "duration": 0.04861,
     "end_time": "2023-09-10T07:41:03.133541",
     "exception": false,
     "start_time": "2023-09-10T07:41:03.084931",
     "status": "completed"
    },
    "tags": []
   },
   "outputs": [
    {
     "data": {
      "application/javascript": [
       "parent.postMessage({\"jupyterEvent\": \"custom.exercise_interaction\", \"data\": {\"outcomeType\": 1, \"valueTowardsCompletion\": 0.25, \"interactionType\": 1, \"questionType\": 2, \"questionId\": \"4_ReviewsPerRegion\", \"learnToolsVersion\": \"0.3.4\", \"failureMessage\": \"\", \"exceptionClass\": \"\", \"trace\": \"\"}}, \"*\")"
      ],
      "text/plain": [
       "<IPython.core.display.Javascript object>"
      ]
     },
     "metadata": {},
     "output_type": "display_data"
    },
    {
     "data": {
      "text/markdown": [
       "<span style=\"color:#33cc33\">Correct</span>"
      ],
      "text/plain": [
       "Correct"
      ]
     },
     "metadata": {},
     "output_type": "display_data"
    }
   ],
   "source": [
    "reviews_per_region = reviews.region_1.fillna('Unknown').value_counts().sort_values(ascending=False)\n",
    "\n",
    "# Check your answer\n",
    "q4.check()"
   ]
  },
  {
   "cell_type": "code",
   "execution_count": 9,
   "id": "ece68f37",
   "metadata": {
    "execution": {
     "iopub.execute_input": "2023-09-10T07:41:03.148798Z",
     "iopub.status.busy": "2023-09-10T07:41:03.148146Z",
     "iopub.status.idle": "2023-09-10T07:41:03.151922Z",
     "shell.execute_reply": "2023-09-10T07:41:03.151237Z"
    },
    "papermill": {
     "duration": 0.012975,
     "end_time": "2023-09-10T07:41:03.153706",
     "exception": false,
     "start_time": "2023-09-10T07:41:03.140731",
     "status": "completed"
    },
    "tags": []
   },
   "outputs": [],
   "source": [
    "#q4.hint()\n",
    "#q4.solution()"
   ]
  },
  {
   "cell_type": "markdown",
   "id": "bb5490ce",
   "metadata": {
    "papermill": {
     "duration": 0.005627,
     "end_time": "2023-09-10T07:41:03.165364",
     "exception": false,
     "start_time": "2023-09-10T07:41:03.159737",
     "status": "completed"
    },
    "tags": []
   },
   "source": [
    "# Keep going\n",
    "\n",
    "Move on to **[renaming and combining](https://www.kaggle.com/residentmario/renaming-and-combining)**."
   ]
  },
  {
   "cell_type": "markdown",
   "id": "5effadb4",
   "metadata": {
    "papermill": {
     "duration": 0.005983,
     "end_time": "2023-09-10T07:41:03.177264",
     "exception": false,
     "start_time": "2023-09-10T07:41:03.171281",
     "status": "completed"
    },
    "tags": []
   },
   "source": [
    "---\n",
    "\n",
    "\n",
    "\n",
    "\n",
    "*Have questions or comments? Visit the [course discussion forum](https://www.kaggle.com/learn/pandas/discussion) to chat with other learners.*"
   ]
  }
 ],
 "kernelspec": {
  "display_name": "Python 3",
  "language": "python",
  "name": "python3"
 },
 "language_info": {
  "codemirror_mode": {
   "name": "ipython",
   "version": 3
  },
  "file_extension": ".py",
  "mimetype": "text/x-python",
  "name": "python",
  "nbconvert_exporter": "python",
  "pygments_lexer": "ipython3",
  "version": "3.6.4"
 },
 "metadata": {
  "kernelspec": {
   "display_name": "Python 3",
   "language": "python",
   "name": "python3"
  },
  "language_info": {
   "codemirror_mode": {
    "name": "ipython",
    "version": 3
   },
   "file_extension": ".py",
   "mimetype": "text/x-python",
   "name": "python",
   "nbconvert_exporter": "python",
   "pygments_lexer": "ipython3",
   "version": "3.10.12"
  },
  "papermill": {
   "default_parameters": {},
   "duration": 6.665843,
   "end_time": "2023-09-10T07:41:03.603146",
   "environment_variables": {},
   "exception": null,
   "input_path": "__notebook__.ipynb",
   "output_path": "__notebook__.ipynb",
   "parameters": {},
   "start_time": "2023-09-10T07:40:56.937303",
   "version": "2.4.0"
  }
 },
 "nbformat": 4,
 "nbformat_minor": 5
}
