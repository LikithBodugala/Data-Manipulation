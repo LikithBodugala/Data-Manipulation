{
 "cells": [
  {
   "cell_type": "markdown",
   "id": "3eafc720",
   "metadata": {
    "papermill": {
     "duration": 0.006806,
     "end_time": "2023-09-10T06:53:14.979373",
     "exception": false,
     "start_time": "2023-09-10T06:53:14.972567",
     "status": "completed"
    },
    "tags": []
   },
   "source": [
    "**This notebook is an exercise in the [Pandas](https://www.kaggle.com/learn/pandas) course.  You can reference the tutorial at [this link](https://www.kaggle.com/residentmario/summary-functions-and-maps).**\n",
    "\n",
    "---\n"
   ]
  },
  {
   "cell_type": "markdown",
   "id": "954f5a98",
   "metadata": {
    "papermill": {
     "duration": 0.005768,
     "end_time": "2023-09-10T06:53:14.991829",
     "exception": false,
     "start_time": "2023-09-10T06:53:14.986061",
     "status": "completed"
    },
    "tags": []
   },
   "source": [
    "# Introduction\n",
    "\n",
    "Now you are ready to get a deeper understanding of your data.\n",
    "\n",
    "Run the following cell to load your data and some utility functions (including code to check your answers)."
   ]
  },
  {
   "cell_type": "code",
   "execution_count": 1,
   "id": "34ebc6a4",
   "metadata": {
    "execution": {
     "iopub.execute_input": "2023-09-10T06:53:15.005810Z",
     "iopub.status.busy": "2023-09-10T06:53:15.005215Z",
     "iopub.status.idle": "2023-09-10T06:53:20.531934Z",
     "shell.execute_reply": "2023-09-10T06:53:20.530208Z"
    },
    "papermill": {
     "duration": 5.53765,
     "end_time": "2023-09-10T06:53:20.535359",
     "exception": false,
     "start_time": "2023-09-10T06:53:14.997709",
     "status": "completed"
    },
    "tags": []
   },
   "outputs": [
    {
     "name": "stdout",
     "output_type": "stream",
     "text": [
      "Setup complete.\n"
     ]
    },
    {
     "data": {
      "text/html": [
       "<div>\n",
       "<style scoped>\n",
       "    .dataframe tbody tr th:only-of-type {\n",
       "        vertical-align: middle;\n",
       "    }\n",
       "\n",
       "    .dataframe tbody tr th {\n",
       "        vertical-align: top;\n",
       "    }\n",
       "\n",
       "    .dataframe thead th {\n",
       "        text-align: right;\n",
       "    }\n",
       "</style>\n",
       "<table border=\"1\" class=\"dataframe\">\n",
       "  <thead>\n",
       "    <tr style=\"text-align: right;\">\n",
       "      <th></th>\n",
       "      <th>country</th>\n",
       "      <th>description</th>\n",
       "      <th>designation</th>\n",
       "      <th>points</th>\n",
       "      <th>price</th>\n",
       "      <th>province</th>\n",
       "      <th>region_1</th>\n",
       "      <th>region_2</th>\n",
       "      <th>taster_name</th>\n",
       "      <th>taster_twitter_handle</th>\n",
       "      <th>title</th>\n",
       "      <th>variety</th>\n",
       "      <th>winery</th>\n",
       "    </tr>\n",
       "  </thead>\n",
       "  <tbody>\n",
       "    <tr>\n",
       "      <th>0</th>\n",
       "      <td>Italy</td>\n",
       "      <td>Aromas include tropical fruit, broom, brimston...</td>\n",
       "      <td>Vulkà Bianco</td>\n",
       "      <td>87</td>\n",
       "      <td>NaN</td>\n",
       "      <td>Sicily &amp; Sardinia</td>\n",
       "      <td>Etna</td>\n",
       "      <td>NaN</td>\n",
       "      <td>Kerin O’Keefe</td>\n",
       "      <td>@kerinokeefe</td>\n",
       "      <td>Nicosia 2013 Vulkà Bianco  (Etna)</td>\n",
       "      <td>White Blend</td>\n",
       "      <td>Nicosia</td>\n",
       "    </tr>\n",
       "    <tr>\n",
       "      <th>1</th>\n",
       "      <td>Portugal</td>\n",
       "      <td>This is ripe and fruity, a wine that is smooth...</td>\n",
       "      <td>Avidagos</td>\n",
       "      <td>87</td>\n",
       "      <td>15.0</td>\n",
       "      <td>Douro</td>\n",
       "      <td>NaN</td>\n",
       "      <td>NaN</td>\n",
       "      <td>Roger Voss</td>\n",
       "      <td>@vossroger</td>\n",
       "      <td>Quinta dos Avidagos 2011 Avidagos Red (Douro)</td>\n",
       "      <td>Portuguese Red</td>\n",
       "      <td>Quinta dos Avidagos</td>\n",
       "    </tr>\n",
       "    <tr>\n",
       "      <th>2</th>\n",
       "      <td>US</td>\n",
       "      <td>Tart and snappy, the flavors of lime flesh and...</td>\n",
       "      <td>NaN</td>\n",
       "      <td>87</td>\n",
       "      <td>14.0</td>\n",
       "      <td>Oregon</td>\n",
       "      <td>Willamette Valley</td>\n",
       "      <td>Willamette Valley</td>\n",
       "      <td>Paul Gregutt</td>\n",
       "      <td>@paulgwine</td>\n",
       "      <td>Rainstorm 2013 Pinot Gris (Willamette Valley)</td>\n",
       "      <td>Pinot Gris</td>\n",
       "      <td>Rainstorm</td>\n",
       "    </tr>\n",
       "    <tr>\n",
       "      <th>3</th>\n",
       "      <td>US</td>\n",
       "      <td>Pineapple rind, lemon pith and orange blossom ...</td>\n",
       "      <td>Reserve Late Harvest</td>\n",
       "      <td>87</td>\n",
       "      <td>13.0</td>\n",
       "      <td>Michigan</td>\n",
       "      <td>Lake Michigan Shore</td>\n",
       "      <td>NaN</td>\n",
       "      <td>Alexander Peartree</td>\n",
       "      <td>NaN</td>\n",
       "      <td>St. Julian 2013 Reserve Late Harvest Riesling ...</td>\n",
       "      <td>Riesling</td>\n",
       "      <td>St. Julian</td>\n",
       "    </tr>\n",
       "    <tr>\n",
       "      <th>4</th>\n",
       "      <td>US</td>\n",
       "      <td>Much like the regular bottling from 2012, this...</td>\n",
       "      <td>Vintner's Reserve Wild Child Block</td>\n",
       "      <td>87</td>\n",
       "      <td>65.0</td>\n",
       "      <td>Oregon</td>\n",
       "      <td>Willamette Valley</td>\n",
       "      <td>Willamette Valley</td>\n",
       "      <td>Paul Gregutt</td>\n",
       "      <td>@paulgwine</td>\n",
       "      <td>Sweet Cheeks 2012 Vintner's Reserve Wild Child...</td>\n",
       "      <td>Pinot Noir</td>\n",
       "      <td>Sweet Cheeks</td>\n",
       "    </tr>\n",
       "  </tbody>\n",
       "</table>\n",
       "</div>"
      ],
      "text/plain": [
       "    country                                        description  \\\n",
       "0     Italy  Aromas include tropical fruit, broom, brimston...   \n",
       "1  Portugal  This is ripe and fruity, a wine that is smooth...   \n",
       "2        US  Tart and snappy, the flavors of lime flesh and...   \n",
       "3        US  Pineapple rind, lemon pith and orange blossom ...   \n",
       "4        US  Much like the regular bottling from 2012, this...   \n",
       "\n",
       "                          designation  points  price           province  \\\n",
       "0                        Vulkà Bianco      87    NaN  Sicily & Sardinia   \n",
       "1                            Avidagos      87   15.0              Douro   \n",
       "2                                 NaN      87   14.0             Oregon   \n",
       "3                Reserve Late Harvest      87   13.0           Michigan   \n",
       "4  Vintner's Reserve Wild Child Block      87   65.0             Oregon   \n",
       "\n",
       "              region_1           region_2         taster_name  \\\n",
       "0                 Etna                NaN       Kerin O’Keefe   \n",
       "1                  NaN                NaN          Roger Voss   \n",
       "2    Willamette Valley  Willamette Valley        Paul Gregutt   \n",
       "3  Lake Michigan Shore                NaN  Alexander Peartree   \n",
       "4    Willamette Valley  Willamette Valley        Paul Gregutt   \n",
       "\n",
       "  taster_twitter_handle                                              title  \\\n",
       "0          @kerinokeefe                  Nicosia 2013 Vulkà Bianco  (Etna)   \n",
       "1            @vossroger      Quinta dos Avidagos 2011 Avidagos Red (Douro)   \n",
       "2           @paulgwine       Rainstorm 2013 Pinot Gris (Willamette Valley)   \n",
       "3                   NaN  St. Julian 2013 Reserve Late Harvest Riesling ...   \n",
       "4           @paulgwine   Sweet Cheeks 2012 Vintner's Reserve Wild Child...   \n",
       "\n",
       "          variety               winery  \n",
       "0     White Blend              Nicosia  \n",
       "1  Portuguese Red  Quinta dos Avidagos  \n",
       "2      Pinot Gris            Rainstorm  \n",
       "3        Riesling           St. Julian  \n",
       "4      Pinot Noir         Sweet Cheeks  "
      ]
     },
     "execution_count": 1,
     "metadata": {},
     "output_type": "execute_result"
    }
   ],
   "source": [
    "import pandas as pd\n",
    "pd.set_option(\"display.max_rows\", 5)\n",
    "reviews = pd.read_csv(\"../input/wine-reviews/winemag-data-130k-v2.csv\", index_col=0)\n",
    "\n",
    "from learntools.core import binder; binder.bind(globals())\n",
    "from learntools.pandas.summary_functions_and_maps import *\n",
    "print(\"Setup complete.\")\n",
    "\n",
    "reviews.head()"
   ]
  },
  {
   "cell_type": "markdown",
   "id": "958e4926",
   "metadata": {
    "papermill": {
     "duration": 0.006487,
     "end_time": "2023-09-10T06:53:20.548895",
     "exception": false,
     "start_time": "2023-09-10T06:53:20.542408",
     "status": "completed"
    },
    "tags": []
   },
   "source": [
    "# Exercises"
   ]
  },
  {
   "cell_type": "markdown",
   "id": "dd4b719f",
   "metadata": {
    "papermill": {
     "duration": 0.005804,
     "end_time": "2023-09-10T06:53:20.561344",
     "exception": false,
     "start_time": "2023-09-10T06:53:20.555540",
     "status": "completed"
    },
    "tags": []
   },
   "source": [
    "## 1.\n",
    "\n",
    "What is the median of the `points` column in the `reviews` DataFrame?"
   ]
  },
  {
   "cell_type": "code",
   "execution_count": 2,
   "id": "1903311a",
   "metadata": {
    "execution": {
     "iopub.execute_input": "2023-09-10T06:53:20.575190Z",
     "iopub.status.busy": "2023-09-10T06:53:20.574898Z",
     "iopub.status.idle": "2023-09-10T06:53:20.584482Z",
     "shell.execute_reply": "2023-09-10T06:53:20.583508Z"
    },
    "papermill": {
     "duration": 0.01949,
     "end_time": "2023-09-10T06:53:20.586859",
     "exception": false,
     "start_time": "2023-09-10T06:53:20.567369",
     "status": "completed"
    },
    "tags": []
   },
   "outputs": [
    {
     "data": {
      "application/javascript": [
       "parent.postMessage({\"jupyterEvent\": \"custom.exercise_interaction\", \"data\": {\"outcomeType\": 1, \"valueTowardsCompletion\": 0.14285714285714285, \"interactionType\": 1, \"questionType\": 1, \"questionId\": \"1_MedianPoints\", \"learnToolsVersion\": \"0.3.4\", \"failureMessage\": \"\", \"exceptionClass\": \"\", \"trace\": \"\"}}, \"*\")"
      ],
      "text/plain": [
       "<IPython.core.display.Javascript object>"
      ]
     },
     "metadata": {},
     "output_type": "display_data"
    },
    {
     "data": {
      "text/markdown": [
       "<span style=\"color:#33cc33\">Correct</span>"
      ],
      "text/plain": [
       "Correct"
      ]
     },
     "metadata": {},
     "output_type": "display_data"
    }
   ],
   "source": [
    "median_points = reviews.points.median()\n",
    "\n",
    "# Check your answer\n",
    "q1.check()"
   ]
  },
  {
   "cell_type": "code",
   "execution_count": 3,
   "id": "795b46df",
   "metadata": {
    "execution": {
     "iopub.execute_input": "2023-09-10T06:53:20.602218Z",
     "iopub.status.busy": "2023-09-10T06:53:20.601874Z",
     "iopub.status.idle": "2023-09-10T06:53:20.606217Z",
     "shell.execute_reply": "2023-09-10T06:53:20.605025Z"
    },
    "papermill": {
     "duration": 0.014259,
     "end_time": "2023-09-10T06:53:20.608043",
     "exception": false,
     "start_time": "2023-09-10T06:53:20.593784",
     "status": "completed"
    },
    "tags": []
   },
   "outputs": [],
   "source": [
    "#q1.hint()\n",
    "#q1.solution()"
   ]
  },
  {
   "cell_type": "markdown",
   "id": "7243736b",
   "metadata": {
    "papermill": {
     "duration": 0.006506,
     "end_time": "2023-09-10T06:53:20.621790",
     "exception": false,
     "start_time": "2023-09-10T06:53:20.615284",
     "status": "completed"
    },
    "tags": []
   },
   "source": [
    "## 2. \n",
    "What countries are represented in the dataset? (Your answer should not include any duplicates.)"
   ]
  },
  {
   "cell_type": "code",
   "execution_count": 4,
   "id": "1577008d",
   "metadata": {
    "execution": {
     "iopub.execute_input": "2023-09-10T06:53:20.636951Z",
     "iopub.status.busy": "2023-09-10T06:53:20.636618Z",
     "iopub.status.idle": "2023-09-10T06:53:20.648911Z",
     "shell.execute_reply": "2023-09-10T06:53:20.648033Z"
    },
    "papermill": {
     "duration": 0.022589,
     "end_time": "2023-09-10T06:53:20.651174",
     "exception": false,
     "start_time": "2023-09-10T06:53:20.628585",
     "status": "completed"
    },
    "tags": []
   },
   "outputs": [
    {
     "data": {
      "application/javascript": [
       "parent.postMessage({\"jupyterEvent\": \"custom.exercise_interaction\", \"data\": {\"outcomeType\": 1, \"valueTowardsCompletion\": 0.14285714285714285, \"interactionType\": 1, \"questionType\": 2, \"questionId\": \"2_UniqueCountries\", \"learnToolsVersion\": \"0.3.4\", \"failureMessage\": \"\", \"exceptionClass\": \"\", \"trace\": \"\"}}, \"*\")"
      ],
      "text/plain": [
       "<IPython.core.display.Javascript object>"
      ]
     },
     "metadata": {},
     "output_type": "display_data"
    },
    {
     "data": {
      "text/markdown": [
       "<span style=\"color:#33cc33\">Correct</span>"
      ],
      "text/plain": [
       "Correct"
      ]
     },
     "metadata": {},
     "output_type": "display_data"
    }
   ],
   "source": [
    "countries = reviews.country.unique()\n",
    "\n",
    "# Check your answer\n",
    "q2.check()"
   ]
  },
  {
   "cell_type": "code",
   "execution_count": 5,
   "id": "5be7c341",
   "metadata": {
    "execution": {
     "iopub.execute_input": "2023-09-10T06:53:20.667646Z",
     "iopub.status.busy": "2023-09-10T06:53:20.667192Z",
     "iopub.status.idle": "2023-09-10T06:53:20.672055Z",
     "shell.execute_reply": "2023-09-10T06:53:20.670985Z"
    },
    "papermill": {
     "duration": 0.015626,
     "end_time": "2023-09-10T06:53:20.674325",
     "exception": false,
     "start_time": "2023-09-10T06:53:20.658699",
     "status": "completed"
    },
    "tags": []
   },
   "outputs": [],
   "source": [
    "#q2.hint()\n",
    "#q2.solution()"
   ]
  },
  {
   "cell_type": "markdown",
   "id": "29e8b479",
   "metadata": {
    "papermill": {
     "duration": 0.006785,
     "end_time": "2023-09-10T06:53:20.688472",
     "exception": false,
     "start_time": "2023-09-10T06:53:20.681687",
     "status": "completed"
    },
    "tags": []
   },
   "source": [
    "## 3.\n",
    "How often does each country appear in the dataset? Create a Series `reviews_per_country` mapping countries to the count of reviews of wines from that country."
   ]
  },
  {
   "cell_type": "code",
   "execution_count": 6,
   "id": "18d76670",
   "metadata": {
    "execution": {
     "iopub.execute_input": "2023-09-10T06:53:20.704381Z",
     "iopub.status.busy": "2023-09-10T06:53:20.704012Z",
     "iopub.status.idle": "2023-09-10T06:53:20.718434Z",
     "shell.execute_reply": "2023-09-10T06:53:20.717014Z"
    },
    "papermill": {
     "duration": 0.024932,
     "end_time": "2023-09-10T06:53:20.720432",
     "exception": false,
     "start_time": "2023-09-10T06:53:20.695500",
     "status": "completed"
    },
    "tags": []
   },
   "outputs": [
    {
     "data": {
      "application/javascript": [
       "parent.postMessage({\"jupyterEvent\": \"custom.exercise_interaction\", \"data\": {\"outcomeType\": 1, \"valueTowardsCompletion\": 0.14285714285714285, \"interactionType\": 1, \"questionType\": 1, \"questionId\": \"3_ReviewsPerCountry\", \"learnToolsVersion\": \"0.3.4\", \"failureMessage\": \"\", \"exceptionClass\": \"\", \"trace\": \"\"}}, \"*\")"
      ],
      "text/plain": [
       "<IPython.core.display.Javascript object>"
      ]
     },
     "metadata": {},
     "output_type": "display_data"
    },
    {
     "data": {
      "text/markdown": [
       "<span style=\"color:#33cc33\">Correct</span>"
      ],
      "text/plain": [
       "Correct"
      ]
     },
     "metadata": {},
     "output_type": "display_data"
    }
   ],
   "source": [
    "reviews_per_country = reviews.country.value_counts()\n",
    "# Check your answer\n",
    "q3.check()"
   ]
  },
  {
   "cell_type": "code",
   "execution_count": 7,
   "id": "145c0973",
   "metadata": {
    "execution": {
     "iopub.execute_input": "2023-09-10T06:53:20.736432Z",
     "iopub.status.busy": "2023-09-10T06:53:20.736075Z",
     "iopub.status.idle": "2023-09-10T06:53:20.740098Z",
     "shell.execute_reply": "2023-09-10T06:53:20.739195Z"
    },
    "papermill": {
     "duration": 0.014242,
     "end_time": "2023-09-10T06:53:20.741933",
     "exception": false,
     "start_time": "2023-09-10T06:53:20.727691",
     "status": "completed"
    },
    "tags": []
   },
   "outputs": [],
   "source": [
    "#q3.hint()\n",
    "#q3.solution()"
   ]
  },
  {
   "cell_type": "markdown",
   "id": "4b09e8a1",
   "metadata": {
    "papermill": {
     "duration": 0.007044,
     "end_time": "2023-09-10T06:53:20.756626",
     "exception": false,
     "start_time": "2023-09-10T06:53:20.749582",
     "status": "completed"
    },
    "tags": []
   },
   "source": [
    "## 4.\n",
    "Create variable `centered_price` containing a version of the `price` column with the mean price subtracted.\n",
    "\n",
    "(Note: this 'centering' transformation is a common preprocessing step before applying various machine learning algorithms.) "
   ]
  },
  {
   "cell_type": "code",
   "execution_count": 8,
   "id": "306ab744",
   "metadata": {
    "execution": {
     "iopub.execute_input": "2023-09-10T06:53:20.772335Z",
     "iopub.status.busy": "2023-09-10T06:53:20.771978Z",
     "iopub.status.idle": "2023-09-10T06:53:20.783819Z",
     "shell.execute_reply": "2023-09-10T06:53:20.782523Z"
    },
    "papermill": {
     "duration": 0.022046,
     "end_time": "2023-09-10T06:53:20.785722",
     "exception": false,
     "start_time": "2023-09-10T06:53:20.763676",
     "status": "completed"
    },
    "tags": []
   },
   "outputs": [
    {
     "data": {
      "application/javascript": [
       "parent.postMessage({\"jupyterEvent\": \"custom.exercise_interaction\", \"data\": {\"outcomeType\": 1, \"valueTowardsCompletion\": 0.14285714285714285, \"interactionType\": 1, \"questionType\": 1, \"questionId\": \"4_CenteredPrice\", \"learnToolsVersion\": \"0.3.4\", \"failureMessage\": \"\", \"exceptionClass\": \"\", \"trace\": \"\"}}, \"*\")"
      ],
      "text/plain": [
       "<IPython.core.display.Javascript object>"
      ]
     },
     "metadata": {},
     "output_type": "display_data"
    },
    {
     "data": {
      "text/markdown": [
       "<span style=\"color:#33cc33\">Correct</span>"
      ],
      "text/plain": [
       "Correct"
      ]
     },
     "metadata": {},
     "output_type": "display_data"
    }
   ],
   "source": [
    "centered_price = reviews.price - reviews.price.mean()\n",
    "\n",
    "# Check your answer\n",
    "q4.check()"
   ]
  },
  {
   "cell_type": "code",
   "execution_count": 9,
   "id": "e7a879f9",
   "metadata": {
    "execution": {
     "iopub.execute_input": "2023-09-10T06:53:20.802952Z",
     "iopub.status.busy": "2023-09-10T06:53:20.802311Z",
     "iopub.status.idle": "2023-09-10T06:53:20.806207Z",
     "shell.execute_reply": "2023-09-10T06:53:20.805052Z"
    },
    "papermill": {
     "duration": 0.015234,
     "end_time": "2023-09-10T06:53:20.808641",
     "exception": false,
     "start_time": "2023-09-10T06:53:20.793407",
     "status": "completed"
    },
    "tags": []
   },
   "outputs": [],
   "source": [
    "#q4.hint()\n",
    "#q4.solution()"
   ]
  },
  {
   "cell_type": "markdown",
   "id": "1b7ea6d9",
   "metadata": {
    "papermill": {
     "duration": 0.007867,
     "end_time": "2023-09-10T06:53:20.824669",
     "exception": false,
     "start_time": "2023-09-10T06:53:20.816802",
     "status": "completed"
    },
    "tags": []
   },
   "source": [
    "## 5.\n",
    "I'm an economical wine buyer. Which wine is the \"best bargain\"? Create a variable `bargain_wine` with the title of the wine with the highest points-to-price ratio in the dataset."
   ]
  },
  {
   "cell_type": "code",
   "execution_count": 10,
   "id": "b8c441ce",
   "metadata": {
    "execution": {
     "iopub.execute_input": "2023-09-10T06:53:20.841041Z",
     "iopub.status.busy": "2023-09-10T06:53:20.840696Z",
     "iopub.status.idle": "2023-09-10T06:53:20.854228Z",
     "shell.execute_reply": "2023-09-10T06:53:20.852634Z"
    },
    "papermill": {
     "duration": 0.024395,
     "end_time": "2023-09-10T06:53:20.856521",
     "exception": false,
     "start_time": "2023-09-10T06:53:20.832126",
     "status": "completed"
    },
    "tags": []
   },
   "outputs": [
    {
     "data": {
      "application/javascript": [
       "parent.postMessage({\"jupyterEvent\": \"custom.exercise_interaction\", \"data\": {\"outcomeType\": 1, \"valueTowardsCompletion\": 0.14285714285714285, \"interactionType\": 1, \"questionType\": 2, \"questionId\": \"5_BargainWine\", \"learnToolsVersion\": \"0.3.4\", \"failureMessage\": \"\", \"exceptionClass\": \"\", \"trace\": \"\"}}, \"*\")"
      ],
      "text/plain": [
       "<IPython.core.display.Javascript object>"
      ]
     },
     "metadata": {},
     "output_type": "display_data"
    },
    {
     "data": {
      "text/markdown": [
       "<span style=\"color:#33cc33\">Correct</span>"
      ],
      "text/plain": [
       "Correct"
      ]
     },
     "metadata": {},
     "output_type": "display_data"
    }
   ],
   "source": [
    "bargain_idx = (reviews.points / reviews.price).idxmax()\n",
    "bargain_wine = reviews.loc[bargain_idx, 'title']\n",
    "\n",
    "# Check your answer\n",
    "q5.check()"
   ]
  },
  {
   "cell_type": "code",
   "execution_count": 11,
   "id": "dce38280",
   "metadata": {
    "execution": {
     "iopub.execute_input": "2023-09-10T06:53:20.874417Z",
     "iopub.status.busy": "2023-09-10T06:53:20.873848Z",
     "iopub.status.idle": "2023-09-10T06:53:20.877622Z",
     "shell.execute_reply": "2023-09-10T06:53:20.876705Z"
    },
    "papermill": {
     "duration": 0.014719,
     "end_time": "2023-09-10T06:53:20.879544",
     "exception": false,
     "start_time": "2023-09-10T06:53:20.864825",
     "status": "completed"
    },
    "tags": []
   },
   "outputs": [],
   "source": [
    "#q5.hint()\n",
    "#q5.solution()"
   ]
  },
  {
   "cell_type": "markdown",
   "id": "7e819038",
   "metadata": {
    "papermill": {
     "duration": 0.007263,
     "end_time": "2023-09-10T06:53:20.894414",
     "exception": false,
     "start_time": "2023-09-10T06:53:20.887151",
     "status": "completed"
    },
    "tags": []
   },
   "source": [
    "## 6.\n",
    "There are only so many words you can use when describing a bottle of wine. Is a wine more likely to be \"tropical\" or \"fruity\"? Create a Series `descriptor_counts` counting how many times each of these two words appears in the `description` column in the dataset. (For simplicity, let's ignore the capitalized versions of these words.)"
   ]
  },
  {
   "cell_type": "code",
   "execution_count": 12,
   "id": "cc44c5c5",
   "metadata": {
    "execution": {
     "iopub.execute_input": "2023-09-10T06:53:20.911015Z",
     "iopub.status.busy": "2023-09-10T06:53:20.910666Z",
     "iopub.status.idle": "2023-09-10T06:53:21.015550Z",
     "shell.execute_reply": "2023-09-10T06:53:21.014166Z"
    },
    "papermill": {
     "duration": 0.115695,
     "end_time": "2023-09-10T06:53:21.017509",
     "exception": false,
     "start_time": "2023-09-10T06:53:20.901814",
     "status": "completed"
    },
    "tags": []
   },
   "outputs": [
    {
     "data": {
      "application/javascript": [
       "parent.postMessage({\"jupyterEvent\": \"custom.exercise_interaction\", \"data\": {\"outcomeType\": 1, \"valueTowardsCompletion\": 0.14285714285714285, \"interactionType\": 1, \"questionType\": 1, \"questionId\": \"6_DescriptorCounts\", \"learnToolsVersion\": \"0.3.4\", \"failureMessage\": \"\", \"exceptionClass\": \"\", \"trace\": \"\"}}, \"*\")"
      ],
      "text/plain": [
       "<IPython.core.display.Javascript object>"
      ]
     },
     "metadata": {},
     "output_type": "display_data"
    },
    {
     "data": {
      "text/markdown": [
       "<span style=\"color:#33cc33\">Correct</span>"
      ],
      "text/plain": [
       "Correct"
      ]
     },
     "metadata": {},
     "output_type": "display_data"
    }
   ],
   "source": [
    "n_trop = reviews.description.map(lambda desc: \"tropical\" in desc).sum()\n",
    "n_fruity = reviews.description.map(lambda desc: \"fruity\" in desc).sum()\n",
    "descriptor_counts = pd.Series([n_trop, n_fruity], index=['tropical', 'fruity'])\n",
    "\n",
    "# Check your answer\n",
    "q6.check()"
   ]
  },
  {
   "cell_type": "code",
   "execution_count": 13,
   "id": "f47456c8",
   "metadata": {
    "execution": {
     "iopub.execute_input": "2023-09-10T06:53:21.034594Z",
     "iopub.status.busy": "2023-09-10T06:53:21.034244Z",
     "iopub.status.idle": "2023-09-10T06:53:21.038947Z",
     "shell.execute_reply": "2023-09-10T06:53:21.037545Z"
    },
    "papermill": {
     "duration": 0.016469,
     "end_time": "2023-09-10T06:53:21.041858",
     "exception": false,
     "start_time": "2023-09-10T06:53:21.025389",
     "status": "completed"
    },
    "tags": []
   },
   "outputs": [],
   "source": [
    "#q6.hint()\n",
    "#q6.solution()"
   ]
  },
  {
   "cell_type": "markdown",
   "id": "1406a8e4",
   "metadata": {
    "papermill": {
     "duration": 0.00781,
     "end_time": "2023-09-10T06:53:21.057894",
     "exception": false,
     "start_time": "2023-09-10T06:53:21.050084",
     "status": "completed"
    },
    "tags": []
   },
   "source": [
    "## 7.\n",
    "We'd like to host these wine reviews on our website, but a rating system ranging from 80 to 100 points is too hard to understand - we'd like to translate them into simple star ratings. A score of 95 or higher counts as 3 stars, a score of at least 85 but less than 95 is 2 stars. Any other score is 1 star.\n",
    "\n",
    "Also, the Canadian Vintners Association bought a lot of ads on the site, so any wines from Canada should automatically get 3 stars, regardless of points.\n",
    "\n",
    "Create a series `star_ratings` with the number of stars corresponding to each review in the dataset."
   ]
  },
  {
   "cell_type": "code",
   "execution_count": 14,
   "id": "76dd9612",
   "metadata": {
    "execution": {
     "iopub.execute_input": "2023-09-10T06:53:21.074911Z",
     "iopub.status.busy": "2023-09-10T06:53:21.074594Z",
     "iopub.status.idle": "2023-09-10T06:53:23.896463Z",
     "shell.execute_reply": "2023-09-10T06:53:23.895475Z"
    },
    "papermill": {
     "duration": 2.833203,
     "end_time": "2023-09-10T06:53:23.898866",
     "exception": false,
     "start_time": "2023-09-10T06:53:21.065663",
     "status": "completed"
    },
    "tags": []
   },
   "outputs": [
    {
     "data": {
      "application/javascript": [
       "parent.postMessage({\"jupyterEvent\": \"custom.exercise_interaction\", \"data\": {\"outcomeType\": 1, \"valueTowardsCompletion\": 0.14285714285714285, \"interactionType\": 1, \"questionType\": 1, \"questionId\": \"7_StarRatings\", \"learnToolsVersion\": \"0.3.4\", \"failureMessage\": \"\", \"exceptionClass\": \"\", \"trace\": \"\"}}, \"*\")"
      ],
      "text/plain": [
       "<IPython.core.display.Javascript object>"
      ]
     },
     "metadata": {},
     "output_type": "display_data"
    },
    {
     "data": {
      "text/markdown": [
       "<span style=\"color:#33cc33\">Correct</span>"
      ],
      "text/plain": [
       "Correct"
      ]
     },
     "metadata": {},
     "output_type": "display_data"
    }
   ],
   "source": [
    "def stars(row):\n",
    "    if row.country == 'Canada':\n",
    "        return 3\n",
    "    elif row.points >= 95:\n",
    "        return 3\n",
    "    elif row.points >= 85:\n",
    "        return 2\n",
    "    else:\n",
    "        return 1\n",
    "star_ratings = reviews.apply(stars, axis='columns')\n",
    "\n",
    "# Check your answer\n",
    "q7.check()"
   ]
  },
  {
   "cell_type": "code",
   "execution_count": 15,
   "id": "f0945d08",
   "metadata": {
    "execution": {
     "iopub.execute_input": "2023-09-10T06:53:23.917206Z",
     "iopub.status.busy": "2023-09-10T06:53:23.916873Z",
     "iopub.status.idle": "2023-09-10T06:53:23.920733Z",
     "shell.execute_reply": "2023-09-10T06:53:23.919821Z"
    },
    "papermill": {
     "duration": 0.015148,
     "end_time": "2023-09-10T06:53:23.922789",
     "exception": false,
     "start_time": "2023-09-10T06:53:23.907641",
     "status": "completed"
    },
    "tags": []
   },
   "outputs": [],
   "source": [
    "#q7.hint()\n",
    "#q7.solution()"
   ]
  },
  {
   "cell_type": "markdown",
   "id": "a497e5b1",
   "metadata": {
    "papermill": {
     "duration": 0.008007,
     "end_time": "2023-09-10T06:53:23.939209",
     "exception": false,
     "start_time": "2023-09-10T06:53:23.931202",
     "status": "completed"
    },
    "tags": []
   },
   "source": [
    "# Keep going\n",
    "Continue to **[grouping and sorting](https://www.kaggle.com/residentmario/grouping-and-sorting)**."
   ]
  },
  {
   "cell_type": "markdown",
   "id": "cf77bfad",
   "metadata": {
    "papermill": {
     "duration": 0.007969,
     "end_time": "2023-09-10T06:53:23.955354",
     "exception": false,
     "start_time": "2023-09-10T06:53:23.947385",
     "status": "completed"
    },
    "tags": []
   },
   "source": [
    "---\n",
    "\n",
    "\n",
    "\n",
    "\n",
    "*Have questions or comments? Visit the [course discussion forum](https://www.kaggle.com/learn/pandas/discussion) to chat with other learners.*"
   ]
  }
 ],
 "kernelspec": {
  "display_name": "Python 3",
  "language": "python",
  "name": "python3"
 },
 "language_info": {
  "codemirror_mode": {
   "name": "ipython",
   "version": 3
  },
  "file_extension": ".py",
  "mimetype": "text/x-python",
  "name": "python",
  "nbconvert_exporter": "python",
  "pygments_lexer": "ipython3",
  "version": "3.6.4"
 },
 "metadata": {
  "kernelspec": {
   "display_name": "Python 3",
   "language": "python",
   "name": "python3"
  },
  "language_info": {
   "codemirror_mode": {
    "name": "ipython",
    "version": 3
   },
   "file_extension": ".py",
   "mimetype": "text/x-python",
   "name": "python",
   "nbconvert_exporter": "python",
   "pygments_lexer": "ipython3",
   "version": "3.10.12"
  },
  "papermill": {
   "default_parameters": {},
   "duration": 12.311071,
   "end_time": "2023-09-10T06:53:24.485912",
   "environment_variables": {},
   "exception": null,
   "input_path": "__notebook__.ipynb",
   "output_path": "__notebook__.ipynb",
   "parameters": {},
   "start_time": "2023-09-10T06:53:12.174841",
   "version": "2.4.0"
  }
 },
 "nbformat": 4,
 "nbformat_minor": 5
}
