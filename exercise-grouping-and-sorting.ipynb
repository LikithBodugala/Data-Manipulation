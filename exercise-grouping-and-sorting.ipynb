{
 "cells": [
  {
   "cell_type": "markdown",
   "id": "7a3da3b8",
   "metadata": {
    "papermill": {
     "duration": 0.007786,
     "end_time": "2023-09-10T07:26:11.382041",
     "exception": false,
     "start_time": "2023-09-10T07:26:11.374255",
     "status": "completed"
    },
    "tags": []
   },
   "source": [
    "**This notebook is an exercise in the [Pandas](https://www.kaggle.com/learn/pandas) course.  You can reference the tutorial at [this link](https://www.kaggle.com/residentmario/grouping-and-sorting).**\n",
    "\n",
    "---\n"
   ]
  },
  {
   "cell_type": "markdown",
   "id": "96d7054e",
   "metadata": {
    "papermill": {
     "duration": 0.006272,
     "end_time": "2023-09-10T07:26:11.395165",
     "exception": false,
     "start_time": "2023-09-10T07:26:11.388893",
     "status": "completed"
    },
    "tags": []
   },
   "source": [
    "# Introduction\n",
    "\n",
    "In these exercises we'll apply groupwise analysis to our dataset.\n",
    "\n",
    "Run the code cell below to load the data before running the exercises."
   ]
  },
  {
   "cell_type": "code",
   "execution_count": 1,
   "id": "6b1b2ce7",
   "metadata": {
    "execution": {
     "iopub.execute_input": "2023-09-10T07:26:11.410574Z",
     "iopub.status.busy": "2023-09-10T07:26:11.409923Z",
     "iopub.status.idle": "2023-09-10T07:26:15.066489Z",
     "shell.execute_reply": "2023-09-10T07:26:15.065359Z"
    },
    "papermill": {
     "duration": 3.667693,
     "end_time": "2023-09-10T07:26:15.069594",
     "exception": false,
     "start_time": "2023-09-10T07:26:11.401901",
     "status": "completed"
    },
    "tags": []
   },
   "outputs": [
    {
     "name": "stdout",
     "output_type": "stream",
     "text": [
      "Setup complete.\n"
     ]
    }
   ],
   "source": [
    "import pandas as pd\n",
    "\n",
    "reviews = pd.read_csv(\"../input/wine-reviews/winemag-data-130k-v2.csv\", index_col=0)\n",
    "#pd.set_option(\"display.max_rows\", 5)\n",
    "\n",
    "from learntools.core import binder; binder.bind(globals())\n",
    "from learntools.pandas.grouping_and_sorting import *\n",
    "print(\"Setup complete.\")"
   ]
  },
  {
   "cell_type": "markdown",
   "id": "41cc4705",
   "metadata": {
    "papermill": {
     "duration": 0.006693,
     "end_time": "2023-09-10T07:26:15.083985",
     "exception": false,
     "start_time": "2023-09-10T07:26:15.077292",
     "status": "completed"
    },
    "tags": []
   },
   "source": [
    "# Exercises"
   ]
  },
  {
   "cell_type": "markdown",
   "id": "aa5151ce",
   "metadata": {
    "papermill": {
     "duration": 0.007336,
     "end_time": "2023-09-10T07:26:15.100150",
     "exception": false,
     "start_time": "2023-09-10T07:26:15.092814",
     "status": "completed"
    },
    "tags": []
   },
   "source": [
    "## 1.\n",
    "Who are the most common wine reviewers in the dataset? Create a `Series` whose index is the `taster_twitter_handle` category from the dataset, and whose values count how many reviews each person wrote."
   ]
  },
  {
   "cell_type": "code",
   "execution_count": 2,
   "id": "3627b63b",
   "metadata": {
    "execution": {
     "iopub.execute_input": "2023-09-10T07:26:15.117312Z",
     "iopub.status.busy": "2023-09-10T07:26:15.115777Z",
     "iopub.status.idle": "2023-09-10T07:26:15.140568Z",
     "shell.execute_reply": "2023-09-10T07:26:15.139636Z"
    },
    "papermill": {
     "duration": 0.035677,
     "end_time": "2023-09-10T07:26:15.142798",
     "exception": false,
     "start_time": "2023-09-10T07:26:15.107121",
     "status": "completed"
    },
    "tags": []
   },
   "outputs": [
    {
     "data": {
      "application/javascript": [
       "parent.postMessage({\"jupyterEvent\": \"custom.exercise_interaction\", \"data\": {\"outcomeType\": 1, \"valueTowardsCompletion\": 0.16666666666666666, \"interactionType\": 1, \"questionType\": 1, \"questionId\": \"1_ReviewsWritten\", \"learnToolsVersion\": \"0.3.4\", \"failureMessage\": \"\", \"exceptionClass\": \"\", \"trace\": \"\"}}, \"*\")"
      ],
      "text/plain": [
       "<IPython.core.display.Javascript object>"
      ]
     },
     "metadata": {},
     "output_type": "display_data"
    },
    {
     "data": {
      "text/markdown": [
       "<span style=\"color:#33cc33\">Correct:</span> \n",
       "\n",
       "\n",
       "```python\n",
       "reviews_written = reviews.groupby('taster_twitter_handle').size()\n",
       "```\n",
       "or\n",
       "```python\n",
       "reviews_written = reviews.groupby('taster_twitter_handle').taster_twitter_handle.count()\n",
       "```\n"
      ],
      "text/plain": [
       "Correct: \n",
       "\n",
       "\n",
       "```python\n",
       "reviews_written = reviews.groupby('taster_twitter_handle').size()\n",
       "```\n",
       "or\n",
       "```python\n",
       "reviews_written = reviews.groupby('taster_twitter_handle').taster_twitter_handle.count()\n",
       "```"
      ]
     },
     "metadata": {},
     "output_type": "display_data"
    }
   ],
   "source": [
    "# Your code here\n",
    "reviews_written = reviews.groupby('taster_twitter_handle').size()\n",
    "\n",
    "# Check your answer\n",
    "q1.check()"
   ]
  },
  {
   "cell_type": "code",
   "execution_count": 3,
   "id": "9749a864",
   "metadata": {
    "execution": {
     "iopub.execute_input": "2023-09-10T07:26:15.161013Z",
     "iopub.status.busy": "2023-09-10T07:26:15.159947Z",
     "iopub.status.idle": "2023-09-10T07:26:15.164939Z",
     "shell.execute_reply": "2023-09-10T07:26:15.163575Z"
    },
    "papermill": {
     "duration": 0.01689,
     "end_time": "2023-09-10T07:26:15.167269",
     "exception": false,
     "start_time": "2023-09-10T07:26:15.150379",
     "status": "completed"
    },
    "tags": []
   },
   "outputs": [],
   "source": [
    "#q1.hint()\n",
    "#q1.solution()"
   ]
  },
  {
   "cell_type": "markdown",
   "id": "1bbb860e",
   "metadata": {
    "papermill": {
     "duration": 0.007822,
     "end_time": "2023-09-10T07:26:15.182438",
     "exception": false,
     "start_time": "2023-09-10T07:26:15.174616",
     "status": "completed"
    },
    "tags": []
   },
   "source": [
    "## 2.\n",
    "What is the best wine I can buy for a given amount of money? Create a `Series` whose index is wine prices and whose values is the maximum number of points a wine costing that much was given in a review. Sort the values by price, ascending (so that `4.0` dollars is at the top and `3300.0` dollars is at the bottom)."
   ]
  },
  {
   "cell_type": "code",
   "execution_count": 4,
   "id": "79224849",
   "metadata": {
    "execution": {
     "iopub.execute_input": "2023-09-10T07:26:15.200441Z",
     "iopub.status.busy": "2023-09-10T07:26:15.200044Z",
     "iopub.status.idle": "2023-09-10T07:26:15.214385Z",
     "shell.execute_reply": "2023-09-10T07:26:15.213152Z"
    },
    "papermill": {
     "duration": 0.026475,
     "end_time": "2023-09-10T07:26:15.216919",
     "exception": false,
     "start_time": "2023-09-10T07:26:15.190444",
     "status": "completed"
    },
    "tags": []
   },
   "outputs": [
    {
     "data": {
      "application/javascript": [
       "parent.postMessage({\"jupyterEvent\": \"custom.exercise_interaction\", \"data\": {\"outcomeType\": 1, \"valueTowardsCompletion\": 0.16666666666666666, \"interactionType\": 1, \"questionType\": 1, \"questionId\": \"2_BestRatingPerPrice\", \"learnToolsVersion\": \"0.3.4\", \"failureMessage\": \"\", \"exceptionClass\": \"\", \"trace\": \"\"}}, \"*\")"
      ],
      "text/plain": [
       "<IPython.core.display.Javascript object>"
      ]
     },
     "metadata": {},
     "output_type": "display_data"
    },
    {
     "data": {
      "text/markdown": [
       "<span style=\"color:#33cc33\">Correct</span>"
      ],
      "text/plain": [
       "Correct"
      ]
     },
     "metadata": {},
     "output_type": "display_data"
    }
   ],
   "source": [
    "best_rating_per_price = reviews.groupby('price')['points'].max().sort_index()\n",
    "\n",
    "# Check your answer\n",
    "q2.check()"
   ]
  },
  {
   "cell_type": "code",
   "execution_count": 5,
   "id": "d8456190",
   "metadata": {
    "execution": {
     "iopub.execute_input": "2023-09-10T07:26:15.235208Z",
     "iopub.status.busy": "2023-09-10T07:26:15.234835Z",
     "iopub.status.idle": "2023-09-10T07:26:15.239428Z",
     "shell.execute_reply": "2023-09-10T07:26:15.238234Z"
    },
    "papermill": {
     "duration": 0.017367,
     "end_time": "2023-09-10T07:26:15.241899",
     "exception": false,
     "start_time": "2023-09-10T07:26:15.224532",
     "status": "completed"
    },
    "tags": []
   },
   "outputs": [],
   "source": [
    "#q2.hint()\n",
    "#q2.solution()"
   ]
  },
  {
   "cell_type": "markdown",
   "id": "43fe73c3",
   "metadata": {
    "papermill": {
     "duration": 0.007845,
     "end_time": "2023-09-10T07:26:15.257279",
     "exception": false,
     "start_time": "2023-09-10T07:26:15.249434",
     "status": "completed"
    },
    "tags": []
   },
   "source": [
    "## 3.\n",
    "What are the minimum and maximum prices for each `variety` of wine? Create a `DataFrame` whose index is the `variety` category from the dataset and whose values are the `min` and `max` values thereof."
   ]
  },
  {
   "cell_type": "code",
   "execution_count": 6,
   "id": "b56cc75d",
   "metadata": {
    "execution": {
     "iopub.execute_input": "2023-09-10T07:26:15.275758Z",
     "iopub.status.busy": "2023-09-10T07:26:15.275346Z",
     "iopub.status.idle": "2023-09-10T07:26:15.302008Z",
     "shell.execute_reply": "2023-09-10T07:26:15.300930Z"
    },
    "papermill": {
     "duration": 0.03881,
     "end_time": "2023-09-10T07:26:15.304340",
     "exception": false,
     "start_time": "2023-09-10T07:26:15.265530",
     "status": "completed"
    },
    "tags": []
   },
   "outputs": [
    {
     "data": {
      "application/javascript": [
       "parent.postMessage({\"jupyterEvent\": \"custom.exercise_interaction\", \"data\": {\"outcomeType\": 1, \"valueTowardsCompletion\": 0.16666666666666666, \"interactionType\": 1, \"questionType\": 1, \"questionId\": \"3_PriceExtremes\", \"learnToolsVersion\": \"0.3.4\", \"failureMessage\": \"\", \"exceptionClass\": \"\", \"trace\": \"\"}}, \"*\")"
      ],
      "text/plain": [
       "<IPython.core.display.Javascript object>"
      ]
     },
     "metadata": {},
     "output_type": "display_data"
    },
    {
     "data": {
      "text/markdown": [
       "<span style=\"color:#33cc33\">Correct</span>"
      ],
      "text/plain": [
       "Correct"
      ]
     },
     "metadata": {},
     "output_type": "display_data"
    }
   ],
   "source": [
    "price_extremes = reviews.groupby('variety').price.agg([min, max])\n",
    "# Check your answer\n",
    "q3.check()"
   ]
  },
  {
   "cell_type": "code",
   "execution_count": 7,
   "id": "e3dc2b60",
   "metadata": {
    "execution": {
     "iopub.execute_input": "2023-09-10T07:26:15.321950Z",
     "iopub.status.busy": "2023-09-10T07:26:15.321566Z",
     "iopub.status.idle": "2023-09-10T07:26:15.326235Z",
     "shell.execute_reply": "2023-09-10T07:26:15.324919Z"
    },
    "papermill": {
     "duration": 0.016593,
     "end_time": "2023-09-10T07:26:15.328810",
     "exception": false,
     "start_time": "2023-09-10T07:26:15.312217",
     "status": "completed"
    },
    "tags": []
   },
   "outputs": [],
   "source": [
    "#q3.hint()\n",
    "#q3.solution()"
   ]
  },
  {
   "cell_type": "markdown",
   "id": "3a616058",
   "metadata": {
    "papermill": {
     "duration": 0.007527,
     "end_time": "2023-09-10T07:26:15.344143",
     "exception": false,
     "start_time": "2023-09-10T07:26:15.336616",
     "status": "completed"
    },
    "tags": []
   },
   "source": [
    "## 4.\n",
    "What are the most expensive wine varieties? Create a variable `sorted_varieties` containing a copy of the dataframe from the previous question where varieties are sorted in descending order based on minimum price, then on maximum price (to break ties)."
   ]
  },
  {
   "cell_type": "code",
   "execution_count": 8,
   "id": "6b516cfc",
   "metadata": {
    "execution": {
     "iopub.execute_input": "2023-09-10T07:26:15.362772Z",
     "iopub.status.busy": "2023-09-10T07:26:15.362387Z",
     "iopub.status.idle": "2023-09-10T07:26:15.376160Z",
     "shell.execute_reply": "2023-09-10T07:26:15.374736Z"
    },
    "papermill": {
     "duration": 0.026182,
     "end_time": "2023-09-10T07:26:15.378510",
     "exception": false,
     "start_time": "2023-09-10T07:26:15.352328",
     "status": "completed"
    },
    "tags": []
   },
   "outputs": [
    {
     "data": {
      "application/javascript": [
       "parent.postMessage({\"jupyterEvent\": \"custom.exercise_interaction\", \"data\": {\"outcomeType\": 1, \"valueTowardsCompletion\": 0.16666666666666666, \"interactionType\": 1, \"questionType\": 1, \"questionId\": \"4_SortedVarieties\", \"learnToolsVersion\": \"0.3.4\", \"failureMessage\": \"\", \"exceptionClass\": \"\", \"trace\": \"\"}}, \"*\")"
      ],
      "text/plain": [
       "<IPython.core.display.Javascript object>"
      ]
     },
     "metadata": {},
     "output_type": "display_data"
    },
    {
     "data": {
      "text/markdown": [
       "<span style=\"color:#33cc33\">Correct</span>"
      ],
      "text/plain": [
       "Correct"
      ]
     },
     "metadata": {},
     "output_type": "display_data"
    }
   ],
   "source": [
    "sorted_varieties = price_extremes.sort_values(by=['min', 'max'], ascending=False)\n",
    "\n",
    "\n",
    "# Check your answer\n",
    "q4.check()"
   ]
  },
  {
   "cell_type": "code",
   "execution_count": 9,
   "id": "b4955eae",
   "metadata": {
    "execution": {
     "iopub.execute_input": "2023-09-10T07:26:15.396668Z",
     "iopub.status.busy": "2023-09-10T07:26:15.396250Z",
     "iopub.status.idle": "2023-09-10T07:26:15.402007Z",
     "shell.execute_reply": "2023-09-10T07:26:15.400792Z"
    },
    "papermill": {
     "duration": 0.018237,
     "end_time": "2023-09-10T07:26:15.404812",
     "exception": false,
     "start_time": "2023-09-10T07:26:15.386575",
     "status": "completed"
    },
    "tags": []
   },
   "outputs": [],
   "source": [
    "#q4.hint()\n",
    "#q4.solution()"
   ]
  },
  {
   "cell_type": "markdown",
   "id": "d8e3408a",
   "metadata": {
    "papermill": {
     "duration": 0.008401,
     "end_time": "2023-09-10T07:26:15.421369",
     "exception": false,
     "start_time": "2023-09-10T07:26:15.412968",
     "status": "completed"
    },
    "tags": []
   },
   "source": [
    "## 5.\n",
    "Create a `Series` whose index is reviewers and whose values is the average review score given out by that reviewer. Hint: you will need the `taster_name` and `points` columns."
   ]
  },
  {
   "cell_type": "code",
   "execution_count": 10,
   "id": "c7fca328",
   "metadata": {
    "execution": {
     "iopub.execute_input": "2023-09-10T07:26:15.439863Z",
     "iopub.status.busy": "2023-09-10T07:26:15.439435Z",
     "iopub.status.idle": "2023-09-10T07:26:15.463198Z",
     "shell.execute_reply": "2023-09-10T07:26:15.462052Z"
    },
    "papermill": {
     "duration": 0.035531,
     "end_time": "2023-09-10T07:26:15.465490",
     "exception": false,
     "start_time": "2023-09-10T07:26:15.429959",
     "status": "completed"
    },
    "tags": []
   },
   "outputs": [
    {
     "data": {
      "application/javascript": [
       "parent.postMessage({\"jupyterEvent\": \"custom.exercise_interaction\", \"data\": {\"outcomeType\": 1, \"valueTowardsCompletion\": 0.16666666666666666, \"interactionType\": 1, \"questionType\": 1, \"questionId\": \"5_ReviewerMeanRatings\", \"learnToolsVersion\": \"0.3.4\", \"failureMessage\": \"\", \"exceptionClass\": \"\", \"trace\": \"\"}}, \"*\")"
      ],
      "text/plain": [
       "<IPython.core.display.Javascript object>"
      ]
     },
     "metadata": {},
     "output_type": "display_data"
    },
    {
     "data": {
      "text/markdown": [
       "<span style=\"color:#33cc33\">Correct</span>"
      ],
      "text/plain": [
       "Correct"
      ]
     },
     "metadata": {},
     "output_type": "display_data"
    }
   ],
   "source": [
    "reviewer_mean_ratings = reviews.groupby('taster_name').points.mean()\n",
    "\n",
    "# Check your answer\n",
    "q5.check()"
   ]
  },
  {
   "cell_type": "code",
   "execution_count": 11,
   "id": "a027fa6c",
   "metadata": {
    "execution": {
     "iopub.execute_input": "2023-09-10T07:26:15.484858Z",
     "iopub.status.busy": "2023-09-10T07:26:15.484466Z",
     "iopub.status.idle": "2023-09-10T07:26:15.489008Z",
     "shell.execute_reply": "2023-09-10T07:26:15.487789Z"
    },
    "papermill": {
     "duration": 0.017182,
     "end_time": "2023-09-10T07:26:15.491449",
     "exception": false,
     "start_time": "2023-09-10T07:26:15.474267",
     "status": "completed"
    },
    "tags": []
   },
   "outputs": [],
   "source": [
    "#q5.hint()\n",
    "#q5.solution()"
   ]
  },
  {
   "cell_type": "markdown",
   "id": "8763a16e",
   "metadata": {
    "papermill": {
     "duration": 0.008007,
     "end_time": "2023-09-10T07:26:15.508125",
     "exception": false,
     "start_time": "2023-09-10T07:26:15.500118",
     "status": "completed"
    },
    "tags": []
   },
   "source": [
    "Are there significant differences in the average scores assigned by the various reviewers? Run the cell below to use the `describe()` method to see a summary of the range of values."
   ]
  },
  {
   "cell_type": "code",
   "execution_count": 12,
   "id": "52ca065c",
   "metadata": {
    "execution": {
     "iopub.execute_input": "2023-09-10T07:26:15.526637Z",
     "iopub.status.busy": "2023-09-10T07:26:15.526255Z",
     "iopub.status.idle": "2023-09-10T07:26:15.540494Z",
     "shell.execute_reply": "2023-09-10T07:26:15.539412Z"
    },
    "papermill": {
     "duration": 0.02603,
     "end_time": "2023-09-10T07:26:15.542851",
     "exception": false,
     "start_time": "2023-09-10T07:26:15.516821",
     "status": "completed"
    },
    "tags": []
   },
   "outputs": [
    {
     "data": {
      "text/plain": [
       "count    19.000000\n",
       "mean     88.233026\n",
       "std       1.243610\n",
       "min      85.855422\n",
       "25%      87.323501\n",
       "50%      88.536235\n",
       "75%      88.975256\n",
       "max      90.562551\n",
       "Name: points, dtype: float64"
      ]
     },
     "execution_count": 12,
     "metadata": {},
     "output_type": "execute_result"
    }
   ],
   "source": [
    "reviewer_mean_ratings.describe()"
   ]
  },
  {
   "cell_type": "markdown",
   "id": "22947210",
   "metadata": {
    "papermill": {
     "duration": 0.008317,
     "end_time": "2023-09-10T07:26:15.560073",
     "exception": false,
     "start_time": "2023-09-10T07:26:15.551756",
     "status": "completed"
    },
    "tags": []
   },
   "source": [
    "## 6.\n",
    "What combination of countries and varieties are most common? Create a `Series` whose index is a `MultiIndex`of `{country, variety}` pairs. For example, a pinot noir produced in the US should map to `{\"US\", \"Pinot Noir\"}`. Sort the values in the `Series` in descending order based on wine count."
   ]
  },
  {
   "cell_type": "code",
   "execution_count": 13,
   "id": "2aee5482",
   "metadata": {
    "execution": {
     "iopub.execute_input": "2023-09-10T07:26:15.578951Z",
     "iopub.status.busy": "2023-09-10T07:26:15.578563Z",
     "iopub.status.idle": "2023-09-10T07:26:15.618576Z",
     "shell.execute_reply": "2023-09-10T07:26:15.617484Z"
    },
    "papermill": {
     "duration": 0.052336,
     "end_time": "2023-09-10T07:26:15.620795",
     "exception": false,
     "start_time": "2023-09-10T07:26:15.568459",
     "status": "completed"
    },
    "tags": []
   },
   "outputs": [
    {
     "data": {
      "application/javascript": [
       "parent.postMessage({\"jupyterEvent\": \"custom.exercise_interaction\", \"data\": {\"outcomeType\": 1, \"valueTowardsCompletion\": 0.16666666666666666, \"interactionType\": 1, \"questionType\": 1, \"questionId\": \"6_GroupbyCountryVariety\", \"learnToolsVersion\": \"0.3.4\", \"failureMessage\": \"\", \"exceptionClass\": \"\", \"trace\": \"\"}}, \"*\")"
      ],
      "text/plain": [
       "<IPython.core.display.Javascript object>"
      ]
     },
     "metadata": {},
     "output_type": "display_data"
    },
    {
     "data": {
      "text/markdown": [
       "<span style=\"color:#33cc33\">Correct</span>"
      ],
      "text/plain": [
       "Correct"
      ]
     },
     "metadata": {},
     "output_type": "display_data"
    }
   ],
   "source": [
    "country_variety_counts = reviews.groupby(['country', 'variety']).size().sort_values(ascending=False)\n",
    "\n",
    "\n",
    "# Check your answer\n",
    "q6.check()"
   ]
  },
  {
   "cell_type": "code",
   "execution_count": 14,
   "id": "e9877363",
   "metadata": {
    "execution": {
     "iopub.execute_input": "2023-09-10T07:26:15.640666Z",
     "iopub.status.busy": "2023-09-10T07:26:15.640293Z",
     "iopub.status.idle": "2023-09-10T07:26:15.644615Z",
     "shell.execute_reply": "2023-09-10T07:26:15.643475Z"
    },
    "papermill": {
     "duration": 0.016597,
     "end_time": "2023-09-10T07:26:15.646766",
     "exception": false,
     "start_time": "2023-09-10T07:26:15.630169",
     "status": "completed"
    },
    "tags": []
   },
   "outputs": [],
   "source": [
    "#q6.hint()\n",
    "#q6.solution()"
   ]
  },
  {
   "cell_type": "markdown",
   "id": "b1ecc1fa",
   "metadata": {
    "papermill": {
     "duration": 0.008707,
     "end_time": "2023-09-10T07:26:15.664095",
     "exception": false,
     "start_time": "2023-09-10T07:26:15.655388",
     "status": "completed"
    },
    "tags": []
   },
   "source": [
    "# Keep going\n",
    "\n",
    "Move on to the [**data types and missing data**](https://www.kaggle.com/residentmario/data-types-and-missing-values)."
   ]
  },
  {
   "cell_type": "markdown",
   "id": "101978e8",
   "metadata": {
    "papermill": {
     "duration": 0.008833,
     "end_time": "2023-09-10T07:26:15.681742",
     "exception": false,
     "start_time": "2023-09-10T07:26:15.672909",
     "status": "completed"
    },
    "tags": []
   },
   "source": [
    "---\n",
    "\n",
    "\n",
    "\n",
    "\n",
    "*Have questions or comments? Visit the [course discussion forum](https://www.kaggle.com/learn/pandas/discussion) to chat with other learners.*"
   ]
  }
 ],
 "kernelspec": {
  "display_name": "Python 3",
  "language": "python",
  "name": "python3"
 },
 "language_info": {
  "codemirror_mode": {
   "name": "ipython",
   "version": 3
  },
  "file_extension": ".py",
  "mimetype": "text/x-python",
  "name": "python",
  "nbconvert_exporter": "python",
  "pygments_lexer": "ipython3",
  "version": "3.6.4"
 },
 "metadata": {
  "kernelspec": {
   "display_name": "Python 3",
   "language": "python",
   "name": "python3"
  },
  "language_info": {
   "codemirror_mode": {
    "name": "ipython",
    "version": 3
   },
   "file_extension": ".py",
   "mimetype": "text/x-python",
   "name": "python",
   "nbconvert_exporter": "python",
   "pygments_lexer": "ipython3",
   "version": "3.10.12"
  },
  "papermill": {
   "default_parameters": {},
   "duration": 8.09898,
   "end_time": "2023-09-10T07:26:16.211782",
   "environment_variables": {},
   "exception": null,
   "input_path": "__notebook__.ipynb",
   "output_path": "__notebook__.ipynb",
   "parameters": {},
   "start_time": "2023-09-10T07:26:08.112802",
   "version": "2.4.0"
  }
 },
 "nbformat": 4,
 "nbformat_minor": 5
}
