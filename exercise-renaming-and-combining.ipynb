{
 "cells": [
  {
   "cell_type": "markdown",
   "id": "430b9595",
   "metadata": {
    "papermill": {
     "duration": 0.006229,
     "end_time": "2023-09-10T07:48:53.143995",
     "exception": false,
     "start_time": "2023-09-10T07:48:53.137766",
     "status": "completed"
    },
    "tags": []
   },
   "source": [
    "**This notebook is an exercise in the [Pandas](https://www.kaggle.com/learn/pandas) course.  You can reference the tutorial at [this link](https://www.kaggle.com/residentmario/renaming-and-combining).**\n",
    "\n",
    "---\n"
   ]
  },
  {
   "cell_type": "markdown",
   "id": "48bce185",
   "metadata": {
    "papermill": {
     "duration": 0.005139,
     "end_time": "2023-09-10T07:48:53.154910",
     "exception": false,
     "start_time": "2023-09-10T07:48:53.149771",
     "status": "completed"
    },
    "tags": []
   },
   "source": [
    "# Introduction\n",
    "\n",
    "Run the following cell to load your data and some utility functions."
   ]
  },
  {
   "cell_type": "code",
   "execution_count": 1,
   "id": "793e40bd",
   "metadata": {
    "execution": {
     "iopub.execute_input": "2023-09-10T07:48:53.167725Z",
     "iopub.status.busy": "2023-09-10T07:48:53.167306Z",
     "iopub.status.idle": "2023-09-10T07:48:56.966931Z",
     "shell.execute_reply": "2023-09-10T07:48:56.965283Z"
    },
    "papermill": {
     "duration": 3.809008,
     "end_time": "2023-09-10T07:48:56.969334",
     "exception": false,
     "start_time": "2023-09-10T07:48:53.160326",
     "status": "completed"
    },
    "tags": []
   },
   "outputs": [
    {
     "name": "stdout",
     "output_type": "stream",
     "text": [
      "Setup complete.\n"
     ]
    }
   ],
   "source": [
    "import pandas as pd\n",
    "\n",
    "reviews = pd.read_csv(\"../input/wine-reviews/winemag-data-130k-v2.csv\", index_col=0)\n",
    "\n",
    "from learntools.core import binder; binder.bind(globals())\n",
    "from learntools.pandas.renaming_and_combining import *\n",
    "print(\"Setup complete.\")"
   ]
  },
  {
   "cell_type": "markdown",
   "id": "00f1a7ee",
   "metadata": {
    "papermill": {
     "duration": 0.005492,
     "end_time": "2023-09-10T07:48:56.980630",
     "exception": false,
     "start_time": "2023-09-10T07:48:56.975138",
     "status": "completed"
    },
    "tags": []
   },
   "source": [
    "# Exercises\n",
    "\n",
    "View the first several lines of your data by running the cell below:"
   ]
  },
  {
   "cell_type": "code",
   "execution_count": 2,
   "id": "a17aebcf",
   "metadata": {
    "execution": {
     "iopub.execute_input": "2023-09-10T07:48:56.993928Z",
     "iopub.status.busy": "2023-09-10T07:48:56.993338Z",
     "iopub.status.idle": "2023-09-10T07:48:57.016299Z",
     "shell.execute_reply": "2023-09-10T07:48:57.015041Z"
    },
    "papermill": {
     "duration": 0.032815,
     "end_time": "2023-09-10T07:48:57.019159",
     "exception": false,
     "start_time": "2023-09-10T07:48:56.986344",
     "status": "completed"
    },
    "tags": []
   },
   "outputs": [
    {
     "data": {
      "text/html": [
       "<div>\n",
       "<style scoped>\n",
       "    .dataframe tbody tr th:only-of-type {\n",
       "        vertical-align: middle;\n",
       "    }\n",
       "\n",
       "    .dataframe tbody tr th {\n",
       "        vertical-align: top;\n",
       "    }\n",
       "\n",
       "    .dataframe thead th {\n",
       "        text-align: right;\n",
       "    }\n",
       "</style>\n",
       "<table border=\"1\" class=\"dataframe\">\n",
       "  <thead>\n",
       "    <tr style=\"text-align: right;\">\n",
       "      <th></th>\n",
       "      <th>country</th>\n",
       "      <th>description</th>\n",
       "      <th>designation</th>\n",
       "      <th>points</th>\n",
       "      <th>price</th>\n",
       "      <th>province</th>\n",
       "      <th>region_1</th>\n",
       "      <th>region_2</th>\n",
       "      <th>taster_name</th>\n",
       "      <th>taster_twitter_handle</th>\n",
       "      <th>title</th>\n",
       "      <th>variety</th>\n",
       "      <th>winery</th>\n",
       "    </tr>\n",
       "  </thead>\n",
       "  <tbody>\n",
       "    <tr>\n",
       "      <th>0</th>\n",
       "      <td>Italy</td>\n",
       "      <td>Aromas include tropical fruit, broom, brimston...</td>\n",
       "      <td>Vulkà Bianco</td>\n",
       "      <td>87</td>\n",
       "      <td>NaN</td>\n",
       "      <td>Sicily &amp; Sardinia</td>\n",
       "      <td>Etna</td>\n",
       "      <td>NaN</td>\n",
       "      <td>Kerin O’Keefe</td>\n",
       "      <td>@kerinokeefe</td>\n",
       "      <td>Nicosia 2013 Vulkà Bianco  (Etna)</td>\n",
       "      <td>White Blend</td>\n",
       "      <td>Nicosia</td>\n",
       "    </tr>\n",
       "    <tr>\n",
       "      <th>1</th>\n",
       "      <td>Portugal</td>\n",
       "      <td>This is ripe and fruity, a wine that is smooth...</td>\n",
       "      <td>Avidagos</td>\n",
       "      <td>87</td>\n",
       "      <td>15.0</td>\n",
       "      <td>Douro</td>\n",
       "      <td>NaN</td>\n",
       "      <td>NaN</td>\n",
       "      <td>Roger Voss</td>\n",
       "      <td>@vossroger</td>\n",
       "      <td>Quinta dos Avidagos 2011 Avidagos Red (Douro)</td>\n",
       "      <td>Portuguese Red</td>\n",
       "      <td>Quinta dos Avidagos</td>\n",
       "    </tr>\n",
       "    <tr>\n",
       "      <th>2</th>\n",
       "      <td>US</td>\n",
       "      <td>Tart and snappy, the flavors of lime flesh and...</td>\n",
       "      <td>NaN</td>\n",
       "      <td>87</td>\n",
       "      <td>14.0</td>\n",
       "      <td>Oregon</td>\n",
       "      <td>Willamette Valley</td>\n",
       "      <td>Willamette Valley</td>\n",
       "      <td>Paul Gregutt</td>\n",
       "      <td>@paulgwine</td>\n",
       "      <td>Rainstorm 2013 Pinot Gris (Willamette Valley)</td>\n",
       "      <td>Pinot Gris</td>\n",
       "      <td>Rainstorm</td>\n",
       "    </tr>\n",
       "    <tr>\n",
       "      <th>3</th>\n",
       "      <td>US</td>\n",
       "      <td>Pineapple rind, lemon pith and orange blossom ...</td>\n",
       "      <td>Reserve Late Harvest</td>\n",
       "      <td>87</td>\n",
       "      <td>13.0</td>\n",
       "      <td>Michigan</td>\n",
       "      <td>Lake Michigan Shore</td>\n",
       "      <td>NaN</td>\n",
       "      <td>Alexander Peartree</td>\n",
       "      <td>NaN</td>\n",
       "      <td>St. Julian 2013 Reserve Late Harvest Riesling ...</td>\n",
       "      <td>Riesling</td>\n",
       "      <td>St. Julian</td>\n",
       "    </tr>\n",
       "    <tr>\n",
       "      <th>4</th>\n",
       "      <td>US</td>\n",
       "      <td>Much like the regular bottling from 2012, this...</td>\n",
       "      <td>Vintner's Reserve Wild Child Block</td>\n",
       "      <td>87</td>\n",
       "      <td>65.0</td>\n",
       "      <td>Oregon</td>\n",
       "      <td>Willamette Valley</td>\n",
       "      <td>Willamette Valley</td>\n",
       "      <td>Paul Gregutt</td>\n",
       "      <td>@paulgwine</td>\n",
       "      <td>Sweet Cheeks 2012 Vintner's Reserve Wild Child...</td>\n",
       "      <td>Pinot Noir</td>\n",
       "      <td>Sweet Cheeks</td>\n",
       "    </tr>\n",
       "  </tbody>\n",
       "</table>\n",
       "</div>"
      ],
      "text/plain": [
       "    country                                        description  \\\n",
       "0     Italy  Aromas include tropical fruit, broom, brimston...   \n",
       "1  Portugal  This is ripe and fruity, a wine that is smooth...   \n",
       "2        US  Tart and snappy, the flavors of lime flesh and...   \n",
       "3        US  Pineapple rind, lemon pith and orange blossom ...   \n",
       "4        US  Much like the regular bottling from 2012, this...   \n",
       "\n",
       "                          designation  points  price           province  \\\n",
       "0                        Vulkà Bianco      87    NaN  Sicily & Sardinia   \n",
       "1                            Avidagos      87   15.0              Douro   \n",
       "2                                 NaN      87   14.0             Oregon   \n",
       "3                Reserve Late Harvest      87   13.0           Michigan   \n",
       "4  Vintner's Reserve Wild Child Block      87   65.0             Oregon   \n",
       "\n",
       "              region_1           region_2         taster_name  \\\n",
       "0                 Etna                NaN       Kerin O’Keefe   \n",
       "1                  NaN                NaN          Roger Voss   \n",
       "2    Willamette Valley  Willamette Valley        Paul Gregutt   \n",
       "3  Lake Michigan Shore                NaN  Alexander Peartree   \n",
       "4    Willamette Valley  Willamette Valley        Paul Gregutt   \n",
       "\n",
       "  taster_twitter_handle                                              title  \\\n",
       "0          @kerinokeefe                  Nicosia 2013 Vulkà Bianco  (Etna)   \n",
       "1            @vossroger      Quinta dos Avidagos 2011 Avidagos Red (Douro)   \n",
       "2           @paulgwine       Rainstorm 2013 Pinot Gris (Willamette Valley)   \n",
       "3                   NaN  St. Julian 2013 Reserve Late Harvest Riesling ...   \n",
       "4           @paulgwine   Sweet Cheeks 2012 Vintner's Reserve Wild Child...   \n",
       "\n",
       "          variety               winery  \n",
       "0     White Blend              Nicosia  \n",
       "1  Portuguese Red  Quinta dos Avidagos  \n",
       "2      Pinot Gris            Rainstorm  \n",
       "3        Riesling           St. Julian  \n",
       "4      Pinot Noir         Sweet Cheeks  "
      ]
     },
     "execution_count": 2,
     "metadata": {},
     "output_type": "execute_result"
    }
   ],
   "source": [
    "reviews.head()"
   ]
  },
  {
   "cell_type": "markdown",
   "id": "d34a0fd5",
   "metadata": {
    "papermill": {
     "duration": 0.005487,
     "end_time": "2023-09-10T07:48:57.030854",
     "exception": false,
     "start_time": "2023-09-10T07:48:57.025367",
     "status": "completed"
    },
    "tags": []
   },
   "source": [
    "## 1.\n",
    "`region_1` and `region_2` are pretty uninformative names for locale columns in the dataset. Create a copy of `reviews` with these columns renamed to `region` and `locale`, respectively."
   ]
  },
  {
   "cell_type": "code",
   "execution_count": 3,
   "id": "eb58cf8c",
   "metadata": {
    "execution": {
     "iopub.execute_input": "2023-09-10T07:48:57.043849Z",
     "iopub.status.busy": "2023-09-10T07:48:57.043443Z",
     "iopub.status.idle": "2023-09-10T07:48:57.062417Z",
     "shell.execute_reply": "2023-09-10T07:48:57.061047Z"
    },
    "papermill": {
     "duration": 0.027958,
     "end_time": "2023-09-10T07:48:57.064459",
     "exception": false,
     "start_time": "2023-09-10T07:48:57.036501",
     "status": "completed"
    },
    "tags": []
   },
   "outputs": [
    {
     "data": {
      "application/javascript": [
       "parent.postMessage({\"jupyterEvent\": \"custom.exercise_interaction\", \"data\": {\"outcomeType\": 1, \"valueTowardsCompletion\": 0.25, \"interactionType\": 1, \"questionType\": 1, \"questionId\": \"1_RenameCols\", \"learnToolsVersion\": \"0.3.4\", \"failureMessage\": \"\", \"exceptionClass\": \"\", \"trace\": \"\"}}, \"*\")"
      ],
      "text/plain": [
       "<IPython.core.display.Javascript object>"
      ]
     },
     "metadata": {},
     "output_type": "display_data"
    },
    {
     "data": {
      "text/markdown": [
       "<span style=\"color:#33cc33\">Correct</span>"
      ],
      "text/plain": [
       "Correct"
      ]
     },
     "metadata": {},
     "output_type": "display_data"
    }
   ],
   "source": [
    "# Your code here\n",
    "renamed = reviews.rename(columns=dict(region_1='region', region_2='locale'))\n",
    "\n",
    "# Check your answer\n",
    "q1.check()"
   ]
  },
  {
   "cell_type": "code",
   "execution_count": 4,
   "id": "3dde64ff",
   "metadata": {
    "execution": {
     "iopub.execute_input": "2023-09-10T07:48:57.078348Z",
     "iopub.status.busy": "2023-09-10T07:48:57.077997Z",
     "iopub.status.idle": "2023-09-10T07:48:57.081693Z",
     "shell.execute_reply": "2023-09-10T07:48:57.080721Z"
    },
    "papermill": {
     "duration": 0.01278,
     "end_time": "2023-09-10T07:48:57.083471",
     "exception": false,
     "start_time": "2023-09-10T07:48:57.070691",
     "status": "completed"
    },
    "tags": []
   },
   "outputs": [],
   "source": [
    "#q1.hint()\n",
    "#q1.solution()"
   ]
  },
  {
   "cell_type": "markdown",
   "id": "9e903da9",
   "metadata": {
    "papermill": {
     "duration": 0.005685,
     "end_time": "2023-09-10T07:48:57.095141",
     "exception": false,
     "start_time": "2023-09-10T07:48:57.089456",
     "status": "completed"
    },
    "tags": []
   },
   "source": [
    "## 2.\n",
    "Set the index name in the dataset to `wines`."
   ]
  },
  {
   "cell_type": "code",
   "execution_count": 5,
   "id": "204701ee",
   "metadata": {
    "execution": {
     "iopub.execute_input": "2023-09-10T07:48:57.109142Z",
     "iopub.status.busy": "2023-09-10T07:48:57.108569Z",
     "iopub.status.idle": "2023-09-10T07:48:57.127510Z",
     "shell.execute_reply": "2023-09-10T07:48:57.126238Z"
    },
    "papermill": {
     "duration": 0.028544,
     "end_time": "2023-09-10T07:48:57.129618",
     "exception": false,
     "start_time": "2023-09-10T07:48:57.101074",
     "status": "completed"
    },
    "tags": []
   },
   "outputs": [
    {
     "data": {
      "application/javascript": [
       "parent.postMessage({\"jupyterEvent\": \"custom.exercise_interaction\", \"data\": {\"outcomeType\": 1, \"valueTowardsCompletion\": 0.25, \"interactionType\": 1, \"questionType\": 1, \"questionId\": \"2_RenameIndex\", \"learnToolsVersion\": \"0.3.4\", \"failureMessage\": \"\", \"exceptionClass\": \"\", \"trace\": \"\"}}, \"*\")"
      ],
      "text/plain": [
       "<IPython.core.display.Javascript object>"
      ]
     },
     "metadata": {},
     "output_type": "display_data"
    },
    {
     "data": {
      "text/markdown": [
       "<span style=\"color:#33cc33\">Correct</span>"
      ],
      "text/plain": [
       "Correct"
      ]
     },
     "metadata": {},
     "output_type": "display_data"
    }
   ],
   "source": [
    "reindexed = reviews.rename_axis('wines', axis='rows')\n",
    "\n",
    "# Check your answer\n",
    "q2.check()"
   ]
  },
  {
   "cell_type": "code",
   "execution_count": 6,
   "id": "288f8211",
   "metadata": {
    "execution": {
     "iopub.execute_input": "2023-09-10T07:48:57.146139Z",
     "iopub.status.busy": "2023-09-10T07:48:57.144984Z",
     "iopub.status.idle": "2023-09-10T07:48:57.151157Z",
     "shell.execute_reply": "2023-09-10T07:48:57.149758Z"
    },
    "papermill": {
     "duration": 0.017612,
     "end_time": "2023-09-10T07:48:57.154050",
     "exception": false,
     "start_time": "2023-09-10T07:48:57.136438",
     "status": "completed"
    },
    "tags": []
   },
   "outputs": [],
   "source": [
    "#q2.hint()\n",
    "#q2.solution()"
   ]
  },
  {
   "cell_type": "markdown",
   "id": "0ce97c99",
   "metadata": {
    "papermill": {
     "duration": 0.006356,
     "end_time": "2023-09-10T07:48:57.167356",
     "exception": false,
     "start_time": "2023-09-10T07:48:57.161000",
     "status": "completed"
    },
    "tags": []
   },
   "source": [
    "## 3.\n",
    "The [Things on Reddit](https://www.kaggle.com/residentmario/things-on-reddit/data) dataset includes product links from a selection of top-ranked forums (\"subreddits\") on reddit.com. Run the cell below to load a dataframe of products mentioned on the */r/gaming* subreddit and another dataframe for products mentioned on the *r//movies* subreddit."
   ]
  },
  {
   "cell_type": "code",
   "execution_count": 7,
   "id": "c6b057e1",
   "metadata": {
    "execution": {
     "iopub.execute_input": "2023-09-10T07:48:57.183376Z",
     "iopub.status.busy": "2023-09-10T07:48:57.183041Z",
     "iopub.status.idle": "2023-09-10T07:48:57.197997Z",
     "shell.execute_reply": "2023-09-10T07:48:57.196385Z"
    },
    "papermill": {
     "duration": 0.025632,
     "end_time": "2023-09-10T07:48:57.200411",
     "exception": false,
     "start_time": "2023-09-10T07:48:57.174779",
     "status": "completed"
    },
    "tags": []
   },
   "outputs": [],
   "source": [
    "gaming_products = pd.read_csv(\"../input/things-on-reddit/top-things/top-things/reddits/g/gaming.csv\")\n",
    "gaming_products['subreddit'] = \"r/gaming\"\n",
    "movie_products = pd.read_csv(\"../input/things-on-reddit/top-things/top-things/reddits/m/movies.csv\")\n",
    "movie_products['subreddit'] = \"r/movies\""
   ]
  },
  {
   "cell_type": "markdown",
   "id": "eeffad15",
   "metadata": {
    "papermill": {
     "duration": 0.006608,
     "end_time": "2023-09-10T07:48:57.213943",
     "exception": false,
     "start_time": "2023-09-10T07:48:57.207335",
     "status": "completed"
    },
    "tags": []
   },
   "source": [
    "Create a `DataFrame` of products mentioned on *either* subreddit."
   ]
  },
  {
   "cell_type": "code",
   "execution_count": 8,
   "id": "359e525a",
   "metadata": {
    "execution": {
     "iopub.execute_input": "2023-09-10T07:48:57.229088Z",
     "iopub.status.busy": "2023-09-10T07:48:57.228733Z",
     "iopub.status.idle": "2023-09-10T07:48:57.239941Z",
     "shell.execute_reply": "2023-09-10T07:48:57.239143Z"
    },
    "papermill": {
     "duration": 0.021535,
     "end_time": "2023-09-10T07:48:57.242176",
     "exception": false,
     "start_time": "2023-09-10T07:48:57.220641",
     "status": "completed"
    },
    "tags": []
   },
   "outputs": [
    {
     "data": {
      "application/javascript": [
       "parent.postMessage({\"jupyterEvent\": \"custom.exercise_interaction\", \"data\": {\"outcomeType\": 1, \"valueTowardsCompletion\": 0.25, \"interactionType\": 1, \"questionType\": 2, \"questionId\": \"3_ConcatReddit\", \"learnToolsVersion\": \"0.3.4\", \"failureMessage\": \"\", \"exceptionClass\": \"\", \"trace\": \"\"}}, \"*\")"
      ],
      "text/plain": [
       "<IPython.core.display.Javascript object>"
      ]
     },
     "metadata": {},
     "output_type": "display_data"
    },
    {
     "data": {
      "text/markdown": [
       "<span style=\"color:#33cc33\">Correct</span>"
      ],
      "text/plain": [
       "Correct"
      ]
     },
     "metadata": {},
     "output_type": "display_data"
    }
   ],
   "source": [
    "combined_products = pd.concat([gaming_products, movie_products])\n",
    "\n",
    "# Check your answer\n",
    "q3.check()"
   ]
  },
  {
   "cell_type": "code",
   "execution_count": 9,
   "id": "976544c8",
   "metadata": {
    "execution": {
     "iopub.execute_input": "2023-09-10T07:48:57.257945Z",
     "iopub.status.busy": "2023-09-10T07:48:57.256918Z",
     "iopub.status.idle": "2023-09-10T07:48:57.261278Z",
     "shell.execute_reply": "2023-09-10T07:48:57.260590Z"
    },
    "papermill": {
     "duration": 0.01408,
     "end_time": "2023-09-10T07:48:57.263176",
     "exception": false,
     "start_time": "2023-09-10T07:48:57.249096",
     "status": "completed"
    },
    "tags": []
   },
   "outputs": [],
   "source": [
    "#q3.hint()\n",
    "#q3.solution()"
   ]
  },
  {
   "cell_type": "markdown",
   "id": "ecadc540",
   "metadata": {
    "papermill": {
     "duration": 0.00648,
     "end_time": "2023-09-10T07:48:57.276548",
     "exception": false,
     "start_time": "2023-09-10T07:48:57.270068",
     "status": "completed"
    },
    "tags": []
   },
   "source": [
    "## 4.\n",
    "The [Powerlifting Database](https://www.kaggle.com/open-powerlifting/powerlifting-database) dataset on Kaggle includes one CSV table for powerlifting meets and a separate one for powerlifting competitors. Run the cell below to load these datasets into dataframes:"
   ]
  },
  {
   "cell_type": "code",
   "execution_count": 10,
   "id": "29ddb6e6",
   "metadata": {
    "execution": {
     "iopub.execute_input": "2023-09-10T07:48:57.291436Z",
     "iopub.status.busy": "2023-09-10T07:48:57.290923Z",
     "iopub.status.idle": "2023-09-10T07:48:57.793890Z",
     "shell.execute_reply": "2023-09-10T07:48:57.792656Z"
    },
    "papermill": {
     "duration": 0.513597,
     "end_time": "2023-09-10T07:48:57.796538",
     "exception": false,
     "start_time": "2023-09-10T07:48:57.282941",
     "status": "completed"
    },
    "tags": []
   },
   "outputs": [],
   "source": [
    "powerlifting_meets = pd.read_csv(\"../input/powerlifting-database/meets.csv\")\n",
    "powerlifting_competitors = pd.read_csv(\"../input/powerlifting-database/openpowerlifting.csv\")"
   ]
  },
  {
   "cell_type": "markdown",
   "id": "0c644482",
   "metadata": {
    "papermill": {
     "duration": 0.006976,
     "end_time": "2023-09-10T07:48:57.811090",
     "exception": false,
     "start_time": "2023-09-10T07:48:57.804114",
     "status": "completed"
    },
    "tags": []
   },
   "source": [
    "Both tables include references to a `MeetID`, a unique key for each meet (competition) included in the database. Using this, generate a dataset combining the two tables into one."
   ]
  },
  {
   "cell_type": "code",
   "execution_count": 11,
   "id": "d90942d6",
   "metadata": {
    "execution": {
     "iopub.execute_input": "2023-09-10T07:48:57.826395Z",
     "iopub.status.busy": "2023-09-10T07:48:57.826037Z",
     "iopub.status.idle": "2023-09-10T07:48:58.518367Z",
     "shell.execute_reply": "2023-09-10T07:48:58.517182Z"
    },
    "papermill": {
     "duration": 0.703024,
     "end_time": "2023-09-10T07:48:58.520904",
     "exception": false,
     "start_time": "2023-09-10T07:48:57.817880",
     "status": "completed"
    },
    "tags": []
   },
   "outputs": [
    {
     "data": {
      "application/javascript": [
       "parent.postMessage({\"jupyterEvent\": \"custom.exercise_interaction\", \"data\": {\"outcomeType\": 1, \"valueTowardsCompletion\": 0.25, \"interactionType\": 1, \"questionType\": 2, \"questionId\": \"4_JoinLifting\", \"learnToolsVersion\": \"0.3.4\", \"failureMessage\": \"\", \"exceptionClass\": \"\", \"trace\": \"\"}}, \"*\")"
      ],
      "text/plain": [
       "<IPython.core.display.Javascript object>"
      ]
     },
     "metadata": {},
     "output_type": "display_data"
    },
    {
     "data": {
      "text/markdown": [
       "<span style=\"color:#33cc33\">Correct</span>"
      ],
      "text/plain": [
       "Correct"
      ]
     },
     "metadata": {},
     "output_type": "display_data"
    }
   ],
   "source": [
    "powerlifting_combined = powerlifting_meets.set_index(\"MeetID\").join(powerlifting_competitors.set_index(\"MeetID\"))\n",
    "\n",
    "# Check your answer\n",
    "q4.check()"
   ]
  },
  {
   "cell_type": "code",
   "execution_count": 12,
   "id": "f6735e0f",
   "metadata": {
    "execution": {
     "iopub.execute_input": "2023-09-10T07:48:58.538471Z",
     "iopub.status.busy": "2023-09-10T07:48:58.538096Z",
     "iopub.status.idle": "2023-09-10T07:48:58.543468Z",
     "shell.execute_reply": "2023-09-10T07:48:58.541731Z"
    },
    "papermill": {
     "duration": 0.017409,
     "end_time": "2023-09-10T07:48:58.545804",
     "exception": false,
     "start_time": "2023-09-10T07:48:58.528395",
     "status": "completed"
    },
    "tags": []
   },
   "outputs": [],
   "source": [
    "#q4.hint()\n",
    "#q4.solution()"
   ]
  },
  {
   "cell_type": "markdown",
   "id": "9da04282",
   "metadata": {
    "papermill": {
     "duration": 0.006644,
     "end_time": "2023-09-10T07:48:58.559503",
     "exception": false,
     "start_time": "2023-09-10T07:48:58.552859",
     "status": "completed"
    },
    "tags": []
   },
   "source": [
    "# Congratulations!\n",
    "\n",
    "You've finished the Pandas micro-course.  Many data scientists feel efficiency with Pandas is the most useful and practical skill they have, because it allows you to progress quickly in any project you have.\n",
    "\n",
    "If you'd like to apply your new skills to examining geospatial data, you're encouraged to check out our **[Geospatial Analysis](https://www.kaggle.com/learn/geospatial-analysis)** micro-course.\n",
    "\n",
    "You can also take advantage of your Pandas skills by entering a **[Kaggle Competition](https://www.kaggle.com/competitions)** or by answering a question you find interesting using **[Kaggle Datasets](https://www.kaggle.com/datasets)**."
   ]
  },
  {
   "cell_type": "markdown",
   "id": "ae323580",
   "metadata": {
    "papermill": {
     "duration": 0.006707,
     "end_time": "2023-09-10T07:48:58.573112",
     "exception": false,
     "start_time": "2023-09-10T07:48:58.566405",
     "status": "completed"
    },
    "tags": []
   },
   "source": [
    "---\n",
    "\n",
    "\n",
    "\n",
    "\n",
    "*Have questions or comments? Visit the [course discussion forum](https://www.kaggle.com/learn/pandas/discussion) to chat with other learners.*"
   ]
  }
 ],
 "kernelspec": {
  "display_name": "Python 3",
  "language": "python",
  "name": "python3"
 },
 "language_info": {
  "codemirror_mode": {
   "name": "ipython",
   "version": 3
  },
  "file_extension": ".py",
  "mimetype": "text/x-python",
  "name": "python",
  "nbconvert_exporter": "python",
  "pygments_lexer": "ipython3",
  "version": "3.6.4"
 },
 "metadata": {
  "kernelspec": {
   "display_name": "Python 3",
   "language": "python",
   "name": "python3"
  },
  "language_info": {
   "codemirror_mode": {
    "name": "ipython",
    "version": 3
   },
   "file_extension": ".py",
   "mimetype": "text/x-python",
   "name": "python",
   "nbconvert_exporter": "python",
   "pygments_lexer": "ipython3",
   "version": "3.10.12"
  },
  "papermill": {
   "default_parameters": {},
   "duration": 8.863221,
   "end_time": "2023-09-10T07:48:59.101281",
   "environment_variables": {},
   "exception": null,
   "input_path": "__notebook__.ipynb",
   "output_path": "__notebook__.ipynb",
   "parameters": {},
   "start_time": "2023-09-10T07:48:50.238060",
   "version": "2.4.0"
  }
 },
 "nbformat": 4,
 "nbformat_minor": 5
}
